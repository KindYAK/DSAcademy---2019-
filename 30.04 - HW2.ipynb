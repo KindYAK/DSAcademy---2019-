{
 "cells": [
  {
   "cell_type": "code",
   "execution_count": 1,
   "metadata": {},
   "outputs": [],
   "source": [
    "# Task 1\n",
    "a = [234, 43, 53, 456, 456]\n",
    "for i in range(0, len(a), 2):\n",
    "    print(a[i])"
   ]
  },
  {
   "cell_type": "code",
   "execution_count": 2,
   "metadata": {},
   "outputs": [
    {
     "name": "stdout",
     "output_type": "stream",
     "text": [
      "234\n",
      "53\n",
      "456\n"
     ]
    }
   ],
   "source": [
    "# Task 2\n",
    "a = [234, 43, 53, 456, 456]\n",
    "for i in range(len(a)):\n",
    "    if i % 2 == 0:\n",
    "        print(a[i])"
   ]
  },
  {
   "cell_type": "code",
   "execution_count": 1,
   "metadata": {},
   "outputs": [
    {
     "name": "stdout",
     "output_type": "stream",
     "text": [
      "-2 -2\n"
     ]
    }
   ],
   "source": [
    "# Task 3\n",
    "a = [1, -1, 1, -2, -2]\n",
    "for i in range(len(a) - 1):\n",
    "    if a[i]*a[i+1] > 0:\n",
    "        print(a[i], a[i+1])\n",
    "        break"
   ]
  },
  {
   "cell_type": "code",
   "execution_count": 2,
   "metadata": {},
   "outputs": [
    {
     "name": "stdout",
     "output_type": "stream",
     "text": [
      "4\n"
     ]
    }
   ],
   "source": [
    "# Task 4\n",
    "a = [123, 125, 127, 127, 130]\n",
    "n = 127\n",
    "for i in range(len(a)):\n",
    "     if a[i] > n:\n",
    "            print(i)\n",
    "            break\n",
    "if n >= a[-1]:\n",
    "    print(len(a))"
   ]
  },
  {
   "cell_type": "code",
   "execution_count": 6,
   "metadata": {},
   "outputs": [
    {
     "name": "stdout",
     "output_type": "stream",
     "text": [
      "4\n"
     ]
    }
   ],
   "source": [
    "# Task 5\n",
    "a = [1, 1, 1, 2, 4, 4, 4, 5]\n",
    "n_unique = 1\n",
    "for i in range(len(a) - 1):\n",
    "    if a[i] < a[i+1]:\n",
    "        n_unique += 1\n",
    "print(n_unique)"
   ]
  },
  {
   "cell_type": "code",
   "execution_count": 12,
   "metadata": {},
   "outputs": [
    {
     "name": "stdout",
     "output_type": "stream",
     "text": [
      "4 2\n",
      "[5, 6, 2, 4, 7]\n"
     ]
    }
   ],
   "source": [
    "# Task 6\n",
    "a = [5, 6, 7, 4, 2]\n",
    "min_i = 0\n",
    "max_i = 0\n",
    "for i in range(1, len(a)):\n",
    "    if a[min_i] > a[i]:\n",
    "        min_i = i\n",
    "    if a[max_i] < a[i]:\n",
    "        max_i = i\n",
    "print(min_i, max_i)\n",
    "temp = a[min_i]\n",
    "a[min_i] = a[max_i]\n",
    "a[max_i] = temp\n",
    "# Alternative\n",
    "# a[min_i], a[max_i] = a[max_i], a[min_i]\n",
    "print(a)"
   ]
  },
  {
   "cell_type": "code",
   "execution_count": 18,
   "metadata": {},
   "outputs": [
    {
     "name": "stdout",
     "output_type": "stream",
     "text": [
      "[1, 2, 17, 3]\n"
     ]
    }
   ],
   "source": [
    "# Task 7\n",
    "a = [1,2,2,17,3,3,3]\n",
    "uniques = []\n",
    "for i in a:\n",
    "    is_already = False\n",
    "    for j in uniques:\n",
    "        if i == j:\n",
    "            is_already = True\n",
    "            break\n",
    "    if not is_already:\n",
    "        uniques.append(i)\n",
    "# Alternative\n",
    "#     if i not in uniques:\n",
    "#         uniques.append(i)\n",
    "print(uniques)"
   ]
  },
  {
   "cell_type": "code",
   "execution_count": 24,
   "metadata": {},
   "outputs": [
    {
     "name": "stdout",
     "output_type": "stream",
     "text": [
      "['I', 'I', '.', '.', '.', '.', '.', 'I', '.', '.', '.']\n"
     ]
    }
   ],
   "source": [
    "# Task 8\n",
    "N = 11\n",
    "ks = [\"I\"]*N\n",
    "hits = [[8, 10],\n",
    "[2, 5],\n",
    "[3, 6]]\n",
    "for hit in hits:\n",
    "    for i in range(hit[0], hit[1]+1):\n",
    "        ks[i] = \".\"\n",
    "print(ks)"
   ]
  },
  {
   "cell_type": "code",
   "execution_count": 37,
   "metadata": {},
   "outputs": [
    {
     "name": "stdout",
     "output_type": "stream",
     "text": [
      "False\n"
     ]
    }
   ],
   "source": [
    "# Task 9\n",
    "queens = [\n",
    "    [1, 7],\n",
    "    [2, 4],\n",
    "    [3, 2],\n",
    "    [4, 8],\n",
    "    [5, 6],\n",
    "    [6, 1],\n",
    "    [7, 3],\n",
    "    [8, 5]\n",
    "]\n",
    "is_beat = False\n",
    "for q1 in queens:\n",
    "    for q2 in queens:\n",
    "        if q1 == q2:\n",
    "            continue\n",
    "        # Altenrnative:\n",
    "        # if q1 != q2 and (q1[1] == q2[1] or q1[0] == q2[0] or abs(q1[0]-q2[0]) == abs(q2[1]-q2[1])):\n",
    "        if q1[1] == q2[1] or q1[0] == q2[0] or abs(q1[0]-q2[0]) == abs(q2[1]-q2[1]):\n",
    "            is_beat = True\n",
    "            break\n",
    "    if is_beat:\n",
    "        break\n",
    "print(is_beat)"
   ]
  },
  {
   "cell_type": "code",
   "execution_count": 50,
   "metadata": {},
   "outputs": [
    {
     "name": "stdout",
     "output_type": "stream",
     "text": [
      "True\n"
     ]
    }
   ],
   "source": [
    "# Task 10\n",
    "a = [\n",
    "    [0, 1, 2],\n",
    "    [1, 7, 3],\n",
    "    [2, 3, 4]\n",
    "]\n",
    "is_sym = True\n",
    "for i in range(len(a)):\n",
    "    for j in range(i):\n",
    "        if a[i][j] != a[j][i]:\n",
    "            is_sym = False\n",
    "            break\n",
    "    if not is_sym:\n",
    "        break\n",
    "print(is_sym)"
   ]
  },
  {
   "cell_type": "code",
   "execution_count": 79,
   "metadata": {},
   "outputs": [
    {
     "name": "stdout",
     "output_type": "stream",
     "text": [
      "10 1\n"
     ]
    }
   ],
   "source": [
    "# Task 11\n",
    "throws = [\n",
    "    [5, 4],\n",
    "    [5, 5],\n",
    "    [3, 5]\n",
    "]\n",
    "max_throws_i = 0\n",
    "for i in range(1, len(throws)):\n",
    "    if sum(throws[i]) > sum(throws[max_throws_i]):\n",
    "        max_throws_i = i\n",
    "print(sum(throws[max_throws_i]), max_throws_i)"
   ]
  },
  {
   "cell_type": "code",
   "execution_count": 83,
   "metadata": {},
   "outputs": [
    {
     "name": "stdout",
     "output_type": "stream",
     "text": [
      "15 1 2\n"
     ]
    }
   ],
   "source": [
    "# Task 12\n",
    "throws = [\n",
    "    [5, 4],\n",
    "    [5, 5, 15],\n",
    "    [3, 5]\n",
    "]\n",
    "max_throws_i = 0\n",
    "for i in range(1, len(throws)):\n",
    "    if max(throws[i]) > max(throws[max_throws_i]):\n",
    "        max_throws_i = i\n",
    "max_throw_i = 0\n",
    "for i in range(1, len(throws[max_throws_i])):\n",
    "    if throws[max_throws_i][max_throw_i] < throws[max_throws_i][i]:\n",
    "        max_throw_i = i\n",
    "print(max(throws[max_throws_i]), max_throws_i, max_throw_i)"
   ]
  },
  {
   "cell_type": "code",
   "execution_count": 94,
   "metadata": {},
   "outputs": [
    {
     "name": "stdout",
     "output_type": "stream",
     "text": [
      "1\n"
     ]
    }
   ],
   "source": [
    "# Task 13\n",
    "throws = [\n",
    "    [5, 4],\n",
    "    [5, 6, 15],\n",
    "    [3, 3, 15]\n",
    "]\n",
    "max_throws_i = 0\n",
    "for i in range(1, len(throws)):\n",
    "    if max(throws[i]) > max(throws[max_throws_i]) or \\\n",
    "       (max(throws[i]) == max(throws[max_throws_i]) and \\\n",
    "       sum(throws[i]) > sum(throws[max_throws_i])):\n",
    "        max_throws_i = i\n",
    "print(max_throws_i)"
   ]
  },
  {
   "cell_type": "code",
   "execution_count": 77,
   "metadata": {},
   "outputs": [
    {
     "data": {
      "text/plain": [
       "[['1', '1', '1', '0', '0', '0', '0', '0', '0', '0'],\n",
       " ['1', '*', '2', '1', '0', '0', '0', '1', '1', '1'],\n",
       " ['1', '2', '*', '1', '0', '0', '0', '1', '*', '2'],\n",
       " ['0', '1', '1', '1', '0', '0', '0', '1', '3', '*'],\n",
       " ['0', '0', '0', '0', '0', '0', '0', '0', '2', '*']]"
      ]
     },
     "execution_count": 77,
     "metadata": {},
     "output_type": "execute_result"
    }
   ],
   "source": [
    "# Task 14\n",
    "N, M = 5, 10\n",
    "mines = [\n",
    "    [1, 1],\n",
    "    [2, 2],\n",
    "    [4, 9],\n",
    "    [3, 9],\n",
    "    [2, 8]\n",
    "]\n",
    "field = []\n",
    "for _ in range(N):\n",
    "    field.append([])\n",
    "    for _ in range(M):\n",
    "        field[-1].append(\"0\")\n",
    "for mine in mines:\n",
    "    i = mine[0]\n",
    "    j = mine[1]\n",
    "    field[i][j] = \"*\"\n",
    "    i_ds = [-1, 0, +1]\n",
    "    j_ds = [-1, 0, +1]\n",
    "    for i_d in i_ds:\n",
    "        for j_d in j_ds:\n",
    "            if i + i_d >= 0 and i + i_d < len(field) and \\\n",
    "               j + j_d >= 0 and j + j_d < len(field[i + i_d]) and \\\n",
    "               field[i+i_d][j+j_d] != \"*\":\n",
    "                field[i+i_d][j+j_d] = str(int(field[i+i_d][j+j_d]) + 1)\n",
    "field"
   ]
  },
  {
   "cell_type": "code",
   "execution_count": null,
   "metadata": {},
   "outputs": [],
   "source": []
  }
 ],
 "metadata": {
  "kernelspec": {
   "display_name": "Python 3",
   "language": "python",
   "name": "python3"
  },
  "language_info": {
   "codemirror_mode": {
    "name": "ipython",
    "version": 3
   },
   "file_extension": ".py",
   "mimetype": "text/x-python",
   "name": "python",
   "nbconvert_exporter": "python",
   "pygments_lexer": "ipython3",
   "version": "3.6.7"
  }
 },
 "nbformat": 4,
 "nbformat_minor": 2
}
