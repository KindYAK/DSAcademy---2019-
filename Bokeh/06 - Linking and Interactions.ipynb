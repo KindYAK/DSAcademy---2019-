{
 "cells": [
  {
   "cell_type": "markdown",
   "metadata": {},
   "source": [
    "<table style=\"float:left; border:none\">\n",
    "   <tr style=\"border:none; background-color: #ffffff\">\n",
    "       <td style=\"border:none\">\n",
    "           <a href=\"http://bokeh.pydata.org/\">     \n",
    "           <img \n",
    "               src=\"assets/bokeh-transparent.png\" \n",
    "               style=\"width:50px\"\n",
    "           >\n",
    "           </a>    \n",
    "       </td>\n",
    "       <td style=\"border:none\">\n",
    "           <h1>Bokeh Tutorial</h1>\n",
    "       </td>\n",
    "   </tr>\n",
    "</table>\n",
    "\n",
    "<div style=\"float:right;\"><h2>06. Linking and Interactions</h2></div>"
   ]
  },
  {
   "cell_type": "code",
   "execution_count": 1,
   "metadata": {},
   "outputs": [
    {
     "data": {
      "text/html": [
       "\n",
       "    <div class=\"bk-root\">\n",
       "        <a href=\"https://bokeh.pydata.org\" target=\"_blank\" class=\"bk-logo bk-logo-small bk-logo-notebook\"></a>\n",
       "        <span id=\"1001\">Loading BokehJS ...</span>\n",
       "    </div>"
      ]
     },
     "metadata": {},
     "output_type": "display_data"
    },
    {
     "data": {
      "application/javascript": [
       "\n",
       "(function(root) {\n",
       "  function now() {\n",
       "    return new Date();\n",
       "  }\n",
       "\n",
       "  var force = true;\n",
       "\n",
       "  if (typeof root._bokeh_onload_callbacks === \"undefined\" || force === true) {\n",
       "    root._bokeh_onload_callbacks = [];\n",
       "    root._bokeh_is_loading = undefined;\n",
       "  }\n",
       "\n",
       "  var JS_MIME_TYPE = 'application/javascript';\n",
       "  var HTML_MIME_TYPE = 'text/html';\n",
       "  var EXEC_MIME_TYPE = 'application/vnd.bokehjs_exec.v0+json';\n",
       "  var CLASS_NAME = 'output_bokeh rendered_html';\n",
       "\n",
       "  /**\n",
       "   * Render data to the DOM node\n",
       "   */\n",
       "  function render(props, node) {\n",
       "    var script = document.createElement(\"script\");\n",
       "    node.appendChild(script);\n",
       "  }\n",
       "\n",
       "  /**\n",
       "   * Handle when an output is cleared or removed\n",
       "   */\n",
       "  function handleClearOutput(event, handle) {\n",
       "    var cell = handle.cell;\n",
       "\n",
       "    var id = cell.output_area._bokeh_element_id;\n",
       "    var server_id = cell.output_area._bokeh_server_id;\n",
       "    // Clean up Bokeh references\n",
       "    if (id != null && id in Bokeh.index) {\n",
       "      Bokeh.index[id].model.document.clear();\n",
       "      delete Bokeh.index[id];\n",
       "    }\n",
       "\n",
       "    if (server_id !== undefined) {\n",
       "      // Clean up Bokeh references\n",
       "      var cmd = \"from bokeh.io.state import curstate; print(curstate().uuid_to_server['\" + server_id + \"'].get_sessions()[0].document.roots[0]._id)\";\n",
       "      cell.notebook.kernel.execute(cmd, {\n",
       "        iopub: {\n",
       "          output: function(msg) {\n",
       "            var id = msg.content.text.trim();\n",
       "            if (id in Bokeh.index) {\n",
       "              Bokeh.index[id].model.document.clear();\n",
       "              delete Bokeh.index[id];\n",
       "            }\n",
       "          }\n",
       "        }\n",
       "      });\n",
       "      // Destroy server and session\n",
       "      var cmd = \"import bokeh.io.notebook as ion; ion.destroy_server('\" + server_id + \"')\";\n",
       "      cell.notebook.kernel.execute(cmd);\n",
       "    }\n",
       "  }\n",
       "\n",
       "  /**\n",
       "   * Handle when a new output is added\n",
       "   */\n",
       "  function handleAddOutput(event, handle) {\n",
       "    var output_area = handle.output_area;\n",
       "    var output = handle.output;\n",
       "\n",
       "    // limit handleAddOutput to display_data with EXEC_MIME_TYPE content only\n",
       "    if ((output.output_type != \"display_data\") || (!output.data.hasOwnProperty(EXEC_MIME_TYPE))) {\n",
       "      return\n",
       "    }\n",
       "\n",
       "    var toinsert = output_area.element.find(\".\" + CLASS_NAME.split(' ')[0]);\n",
       "\n",
       "    if (output.metadata[EXEC_MIME_TYPE][\"id\"] !== undefined) {\n",
       "      toinsert[toinsert.length - 1].firstChild.textContent = output.data[JS_MIME_TYPE];\n",
       "      // store reference to embed id on output_area\n",
       "      output_area._bokeh_element_id = output.metadata[EXEC_MIME_TYPE][\"id\"];\n",
       "    }\n",
       "    if (output.metadata[EXEC_MIME_TYPE][\"server_id\"] !== undefined) {\n",
       "      var bk_div = document.createElement(\"div\");\n",
       "      bk_div.innerHTML = output.data[HTML_MIME_TYPE];\n",
       "      var script_attrs = bk_div.children[0].attributes;\n",
       "      for (var i = 0; i < script_attrs.length; i++) {\n",
       "        toinsert[toinsert.length - 1].firstChild.setAttribute(script_attrs[i].name, script_attrs[i].value);\n",
       "      }\n",
       "      // store reference to server id on output_area\n",
       "      output_area._bokeh_server_id = output.metadata[EXEC_MIME_TYPE][\"server_id\"];\n",
       "    }\n",
       "  }\n",
       "\n",
       "  function register_renderer(events, OutputArea) {\n",
       "\n",
       "    function append_mime(data, metadata, element) {\n",
       "      // create a DOM node to render to\n",
       "      var toinsert = this.create_output_subarea(\n",
       "        metadata,\n",
       "        CLASS_NAME,\n",
       "        EXEC_MIME_TYPE\n",
       "      );\n",
       "      this.keyboard_manager.register_events(toinsert);\n",
       "      // Render to node\n",
       "      var props = {data: data, metadata: metadata[EXEC_MIME_TYPE]};\n",
       "      render(props, toinsert[toinsert.length - 1]);\n",
       "      element.append(toinsert);\n",
       "      return toinsert\n",
       "    }\n",
       "\n",
       "    /* Handle when an output is cleared or removed */\n",
       "    events.on('clear_output.CodeCell', handleClearOutput);\n",
       "    events.on('delete.Cell', handleClearOutput);\n",
       "\n",
       "    /* Handle when a new output is added */\n",
       "    events.on('output_added.OutputArea', handleAddOutput);\n",
       "\n",
       "    /**\n",
       "     * Register the mime type and append_mime function with output_area\n",
       "     */\n",
       "    OutputArea.prototype.register_mime_type(EXEC_MIME_TYPE, append_mime, {\n",
       "      /* Is output safe? */\n",
       "      safe: true,\n",
       "      /* Index of renderer in `output_area.display_order` */\n",
       "      index: 0\n",
       "    });\n",
       "  }\n",
       "\n",
       "  // register the mime type if in Jupyter Notebook environment and previously unregistered\n",
       "  if (root.Jupyter !== undefined) {\n",
       "    var events = require('base/js/events');\n",
       "    var OutputArea = require('notebook/js/outputarea').OutputArea;\n",
       "\n",
       "    if (OutputArea.prototype.mime_types().indexOf(EXEC_MIME_TYPE) == -1) {\n",
       "      register_renderer(events, OutputArea);\n",
       "    }\n",
       "  }\n",
       "\n",
       "  \n",
       "  if (typeof (root._bokeh_timeout) === \"undefined\" || force === true) {\n",
       "    root._bokeh_timeout = Date.now() + 5000;\n",
       "    root._bokeh_failed_load = false;\n",
       "  }\n",
       "\n",
       "  var NB_LOAD_WARNING = {'data': {'text/html':\n",
       "     \"<div style='background-color: #fdd'>\\n\"+\n",
       "     \"<p>\\n\"+\n",
       "     \"BokehJS does not appear to have successfully loaded. If loading BokehJS from CDN, this \\n\"+\n",
       "     \"may be due to a slow or bad network connection. Possible fixes:\\n\"+\n",
       "     \"</p>\\n\"+\n",
       "     \"<ul>\\n\"+\n",
       "     \"<li>re-rerun `output_notebook()` to attempt to load from CDN again, or</li>\\n\"+\n",
       "     \"<li>use INLINE resources instead, as so:</li>\\n\"+\n",
       "     \"</ul>\\n\"+\n",
       "     \"<code>\\n\"+\n",
       "     \"from bokeh.resources import INLINE\\n\"+\n",
       "     \"output_notebook(resources=INLINE)\\n\"+\n",
       "     \"</code>\\n\"+\n",
       "     \"</div>\"}};\n",
       "\n",
       "  function display_loaded() {\n",
       "    var el = document.getElementById(\"1001\");\n",
       "    if (el != null) {\n",
       "      el.textContent = \"BokehJS is loading...\";\n",
       "    }\n",
       "    if (root.Bokeh !== undefined) {\n",
       "      if (el != null) {\n",
       "        el.textContent = \"BokehJS \" + root.Bokeh.version + \" successfully loaded.\";\n",
       "      }\n",
       "    } else if (Date.now() < root._bokeh_timeout) {\n",
       "      setTimeout(display_loaded, 100)\n",
       "    }\n",
       "  }\n",
       "\n",
       "\n",
       "  function run_callbacks() {\n",
       "    try {\n",
       "      root._bokeh_onload_callbacks.forEach(function(callback) {\n",
       "        if (callback != null)\n",
       "          callback();\n",
       "      });\n",
       "    } finally {\n",
       "      delete root._bokeh_onload_callbacks\n",
       "    }\n",
       "    console.debug(\"Bokeh: all callbacks have finished\");\n",
       "  }\n",
       "\n",
       "  function load_libs(css_urls, js_urls, callback) {\n",
       "    if (css_urls == null) css_urls = [];\n",
       "    if (js_urls == null) js_urls = [];\n",
       "\n",
       "    root._bokeh_onload_callbacks.push(callback);\n",
       "    if (root._bokeh_is_loading > 0) {\n",
       "      console.debug(\"Bokeh: BokehJS is being loaded, scheduling callback at\", now());\n",
       "      return null;\n",
       "    }\n",
       "    if (js_urls == null || js_urls.length === 0) {\n",
       "      run_callbacks();\n",
       "      return null;\n",
       "    }\n",
       "    console.debug(\"Bokeh: BokehJS not loaded, scheduling load and callback at\", now());\n",
       "    root._bokeh_is_loading = css_urls.length + js_urls.length;\n",
       "\n",
       "    function on_load() {\n",
       "      root._bokeh_is_loading--;\n",
       "      if (root._bokeh_is_loading === 0) {\n",
       "        console.debug(\"Bokeh: all BokehJS libraries/stylesheets loaded\");\n",
       "        run_callbacks()\n",
       "      }\n",
       "    }\n",
       "\n",
       "    function on_error() {\n",
       "      console.error(\"failed to load \" + url);\n",
       "    }\n",
       "\n",
       "    for (var i = 0; i < css_urls.length; i++) {\n",
       "      var url = css_urls[i];\n",
       "      const element = document.createElement(\"link\");\n",
       "      element.onload = on_load;\n",
       "      element.onerror = on_error;\n",
       "      element.rel = \"stylesheet\";\n",
       "      element.type = \"text/css\";\n",
       "      element.href = url;\n",
       "      console.debug(\"Bokeh: injecting link tag for BokehJS stylesheet: \", url);\n",
       "      document.body.appendChild(element);\n",
       "    }\n",
       "\n",
       "    for (var i = 0; i < js_urls.length; i++) {\n",
       "      var url = js_urls[i];\n",
       "      var element = document.createElement('script');\n",
       "      element.onload = on_load;\n",
       "      element.onerror = on_error;\n",
       "      element.async = false;\n",
       "      element.src = url;\n",
       "      console.debug(\"Bokeh: injecting script tag for BokehJS library: \", url);\n",
       "      document.head.appendChild(element);\n",
       "    }\n",
       "  };var element = document.getElementById(\"1001\");\n",
       "  if (element == null) {\n",
       "    console.error(\"Bokeh: ERROR: autoload.js configured with elementid '1001' but no matching script tag was found. \")\n",
       "    return false;\n",
       "  }\n",
       "\n",
       "  function inject_raw_css(css) {\n",
       "    const element = document.createElement(\"style\");\n",
       "    element.appendChild(document.createTextNode(css));\n",
       "    document.body.appendChild(element);\n",
       "  }\n",
       "\n",
       "  var js_urls = [\"https://cdn.pydata.org/bokeh/release/bokeh-1.1.0.min.js\", \"https://cdn.pydata.org/bokeh/release/bokeh-widgets-1.1.0.min.js\", \"https://cdn.pydata.org/bokeh/release/bokeh-tables-1.1.0.min.js\", \"https://cdn.pydata.org/bokeh/release/bokeh-gl-1.1.0.min.js\"];\n",
       "  var css_urls = [\"https://cdn.pydata.org/bokeh/release/bokeh-1.1.0.min.css\", \"https://cdn.pydata.org/bokeh/release/bokeh-widgets-1.1.0.min.css\", \"https://cdn.pydata.org/bokeh/release/bokeh-tables-1.1.0.min.css\"];\n",
       "\n",
       "  var inline_js = [\n",
       "    function(Bokeh) {\n",
       "      Bokeh.set_log_level(\"info\");\n",
       "    },\n",
       "    \n",
       "    function(Bokeh) {\n",
       "      \n",
       "    },\n",
       "    function(Bokeh) {} // ensure no trailing comma for IE\n",
       "  ];\n",
       "\n",
       "  function run_inline_js() {\n",
       "    \n",
       "    if ((root.Bokeh !== undefined) || (force === true)) {\n",
       "      for (var i = 0; i < inline_js.length; i++) {\n",
       "        inline_js[i].call(root, root.Bokeh);\n",
       "      }if (force === true) {\n",
       "        display_loaded();\n",
       "      }} else if (Date.now() < root._bokeh_timeout) {\n",
       "      setTimeout(run_inline_js, 100);\n",
       "    } else if (!root._bokeh_failed_load) {\n",
       "      console.log(\"Bokeh: BokehJS failed to load within specified timeout.\");\n",
       "      root._bokeh_failed_load = true;\n",
       "    } else if (force !== true) {\n",
       "      var cell = $(document.getElementById(\"1001\")).parents('.cell').data().cell;\n",
       "      cell.output_area.append_execute_result(NB_LOAD_WARNING)\n",
       "    }\n",
       "\n",
       "  }\n",
       "\n",
       "  if (root._bokeh_is_loading === 0) {\n",
       "    console.debug(\"Bokeh: BokehJS loaded, going straight to plotting\");\n",
       "    run_inline_js();\n",
       "  } else {\n",
       "    load_libs(css_urls, js_urls, function() {\n",
       "      console.debug(\"Bokeh: BokehJS plotting callback run at\", now());\n",
       "      run_inline_js();\n",
       "    });\n",
       "  }\n",
       "}(window));"
      ],
      "application/vnd.bokehjs_load.v0+json": "\n(function(root) {\n  function now() {\n    return new Date();\n  }\n\n  var force = true;\n\n  if (typeof root._bokeh_onload_callbacks === \"undefined\" || force === true) {\n    root._bokeh_onload_callbacks = [];\n    root._bokeh_is_loading = undefined;\n  }\n\n  \n\n  \n  if (typeof (root._bokeh_timeout) === \"undefined\" || force === true) {\n    root._bokeh_timeout = Date.now() + 5000;\n    root._bokeh_failed_load = false;\n  }\n\n  var NB_LOAD_WARNING = {'data': {'text/html':\n     \"<div style='background-color: #fdd'>\\n\"+\n     \"<p>\\n\"+\n     \"BokehJS does not appear to have successfully loaded. If loading BokehJS from CDN, this \\n\"+\n     \"may be due to a slow or bad network connection. Possible fixes:\\n\"+\n     \"</p>\\n\"+\n     \"<ul>\\n\"+\n     \"<li>re-rerun `output_notebook()` to attempt to load from CDN again, or</li>\\n\"+\n     \"<li>use INLINE resources instead, as so:</li>\\n\"+\n     \"</ul>\\n\"+\n     \"<code>\\n\"+\n     \"from bokeh.resources import INLINE\\n\"+\n     \"output_notebook(resources=INLINE)\\n\"+\n     \"</code>\\n\"+\n     \"</div>\"}};\n\n  function display_loaded() {\n    var el = document.getElementById(\"1001\");\n    if (el != null) {\n      el.textContent = \"BokehJS is loading...\";\n    }\n    if (root.Bokeh !== undefined) {\n      if (el != null) {\n        el.textContent = \"BokehJS \" + root.Bokeh.version + \" successfully loaded.\";\n      }\n    } else if (Date.now() < root._bokeh_timeout) {\n      setTimeout(display_loaded, 100)\n    }\n  }\n\n\n  function run_callbacks() {\n    try {\n      root._bokeh_onload_callbacks.forEach(function(callback) {\n        if (callback != null)\n          callback();\n      });\n    } finally {\n      delete root._bokeh_onload_callbacks\n    }\n    console.debug(\"Bokeh: all callbacks have finished\");\n  }\n\n  function load_libs(css_urls, js_urls, callback) {\n    if (css_urls == null) css_urls = [];\n    if (js_urls == null) js_urls = [];\n\n    root._bokeh_onload_callbacks.push(callback);\n    if (root._bokeh_is_loading > 0) {\n      console.debug(\"Bokeh: BokehJS is being loaded, scheduling callback at\", now());\n      return null;\n    }\n    if (js_urls == null || js_urls.length === 0) {\n      run_callbacks();\n      return null;\n    }\n    console.debug(\"Bokeh: BokehJS not loaded, scheduling load and callback at\", now());\n    root._bokeh_is_loading = css_urls.length + js_urls.length;\n\n    function on_load() {\n      root._bokeh_is_loading--;\n      if (root._bokeh_is_loading === 0) {\n        console.debug(\"Bokeh: all BokehJS libraries/stylesheets loaded\");\n        run_callbacks()\n      }\n    }\n\n    function on_error() {\n      console.error(\"failed to load \" + url);\n    }\n\n    for (var i = 0; i < css_urls.length; i++) {\n      var url = css_urls[i];\n      const element = document.createElement(\"link\");\n      element.onload = on_load;\n      element.onerror = on_error;\n      element.rel = \"stylesheet\";\n      element.type = \"text/css\";\n      element.href = url;\n      console.debug(\"Bokeh: injecting link tag for BokehJS stylesheet: \", url);\n      document.body.appendChild(element);\n    }\n\n    for (var i = 0; i < js_urls.length; i++) {\n      var url = js_urls[i];\n      var element = document.createElement('script');\n      element.onload = on_load;\n      element.onerror = on_error;\n      element.async = false;\n      element.src = url;\n      console.debug(\"Bokeh: injecting script tag for BokehJS library: \", url);\n      document.head.appendChild(element);\n    }\n  };var element = document.getElementById(\"1001\");\n  if (element == null) {\n    console.error(\"Bokeh: ERROR: autoload.js configured with elementid '1001' but no matching script tag was found. \")\n    return false;\n  }\n\n  function inject_raw_css(css) {\n    const element = document.createElement(\"style\");\n    element.appendChild(document.createTextNode(css));\n    document.body.appendChild(element);\n  }\n\n  var js_urls = [\"https://cdn.pydata.org/bokeh/release/bokeh-1.1.0.min.js\", \"https://cdn.pydata.org/bokeh/release/bokeh-widgets-1.1.0.min.js\", \"https://cdn.pydata.org/bokeh/release/bokeh-tables-1.1.0.min.js\", \"https://cdn.pydata.org/bokeh/release/bokeh-gl-1.1.0.min.js\"];\n  var css_urls = [\"https://cdn.pydata.org/bokeh/release/bokeh-1.1.0.min.css\", \"https://cdn.pydata.org/bokeh/release/bokeh-widgets-1.1.0.min.css\", \"https://cdn.pydata.org/bokeh/release/bokeh-tables-1.1.0.min.css\"];\n\n  var inline_js = [\n    function(Bokeh) {\n      Bokeh.set_log_level(\"info\");\n    },\n    \n    function(Bokeh) {\n      \n    },\n    function(Bokeh) {} // ensure no trailing comma for IE\n  ];\n\n  function run_inline_js() {\n    \n    if ((root.Bokeh !== undefined) || (force === true)) {\n      for (var i = 0; i < inline_js.length; i++) {\n        inline_js[i].call(root, root.Bokeh);\n      }if (force === true) {\n        display_loaded();\n      }} else if (Date.now() < root._bokeh_timeout) {\n      setTimeout(run_inline_js, 100);\n    } else if (!root._bokeh_failed_load) {\n      console.log(\"Bokeh: BokehJS failed to load within specified timeout.\");\n      root._bokeh_failed_load = true;\n    } else if (force !== true) {\n      var cell = $(document.getElementById(\"1001\")).parents('.cell').data().cell;\n      cell.output_area.append_execute_result(NB_LOAD_WARNING)\n    }\n\n  }\n\n  if (root._bokeh_is_loading === 0) {\n    console.debug(\"Bokeh: BokehJS loaded, going straight to plotting\");\n    run_inline_js();\n  } else {\n    load_libs(css_urls, js_urls, function() {\n      console.debug(\"Bokeh: BokehJS plotting callback run at\", now());\n      run_inline_js();\n    });\n  }\n}(window));"
     },
     "metadata": {},
     "output_type": "display_data"
    }
   ],
   "source": [
    "from bokeh.io import output_notebook, show\n",
    "from bokeh.plotting import figure\n",
    "output_notebook()"
   ]
  },
  {
   "cell_type": "markdown",
   "metadata": {},
   "source": [
    "Now that we know from the previous chapter how multiple plots can be placed together in a layout, we can start to look at how different plots can be linked togeher, or how plots can be linked to widgets. "
   ]
  },
  {
   "cell_type": "markdown",
   "metadata": {
    "collapsed": true
   },
   "source": [
    "# Linked Interactions\n",
    "\n",
    "It is possible to link various interactions between different Bokeh plots. For instance, the ranges of two (or more) plots can be linked, so that when one of the plots is panned (or zoomed, or otherwise has its range changed) the other plots will update in unison. It is also possible to link selections between two plots, so that when items are selected on one plot, the corresponding items on the second plot also become selected. "
   ]
  },
  {
   "cell_type": "markdown",
   "metadata": {},
   "source": [
    "## Linked panning\n",
    "\n",
    "Linked panning (when multiple plots have ranges that stay in sync) is simple to spell with Bokeh. You simply share the appropriate range objects between two (or more) plots. The example below shows how to accomplish this by linking the ranges of three plots in various ways:"
   ]
  },
  {
   "cell_type": "code",
   "execution_count": 2,
   "metadata": {},
   "outputs": [
    {
     "data": {
      "text/html": [
       "\n",
       "\n",
       "\n",
       "\n",
       "\n",
       "\n",
       "  <div class=\"bk-root\" id=\"632531bc-9996-4630-addc-48dd75350a2f\" data-root-id=\"1116\"></div>\n"
      ]
     },
     "metadata": {},
     "output_type": "display_data"
    },
    {
     "data": {
      "application/javascript": [
       "(function(root) {\n",
       "  function embed_document(root) {\n",
       "    \n",
       "  var docs_json = {\"cfa441ae-f041-4a31-9795-8461bedb559b\":{\"roots\":{\"references\":[{\"attributes\":{\"children\":[{\"id\":\"1115\",\"type\":\"ToolbarBox\"},{\"id\":\"1113\",\"type\":\"GridBox\"}]},\"id\":\"1116\",\"type\":\"Column\"},{\"attributes\":{\"formatter\":{\"id\":\"1109\",\"type\":\"BasicTickFormatter\"},\"ticker\":{\"id\":\"1067\",\"type\":\"BasicTicker\"}},\"id\":\"1066\",\"type\":\"LinearAxis\"},{\"attributes\":{},\"id\":\"1036\",\"type\":\"LinearScale\"},{\"attributes\":{},\"id\":\"1092\",\"type\":\"Selection\"},{\"attributes\":{\"formatter\":{\"id\":\"1091\",\"type\":\"BasicTickFormatter\"},\"ticker\":{\"id\":\"1012\",\"type\":\"BasicTicker\"}},\"id\":\"1011\",\"type\":\"LinearAxis\"},{\"attributes\":{},\"id\":\"1067\",\"type\":\"BasicTicker\"},{\"attributes\":{\"formatter\":{\"id\":\"1100\",\"type\":\"BasicTickFormatter\"},\"ticker\":{\"id\":\"1039\",\"type\":\"BasicTicker\"}},\"id\":\"1038\",\"type\":\"LinearAxis\"},{\"attributes\":{},\"id\":\"1093\",\"type\":\"UnionRenderers\"},{\"attributes\":{},\"id\":\"1012\",\"type\":\"BasicTicker\"},{\"attributes\":{\"ticker\":{\"id\":\"1067\",\"type\":\"BasicTicker\"}},\"id\":\"1070\",\"type\":\"Grid\"},{\"attributes\":{\"text\":\"\"},\"id\":\"1095\",\"type\":\"Title\"},{\"attributes\":{},\"id\":\"1039\",\"type\":\"BasicTicker\"},{\"attributes\":{\"below\":[{\"id\":\"1066\",\"type\":\"LinearAxis\"}],\"center\":[{\"id\":\"1070\",\"type\":\"Grid\"},{\"id\":\"1075\",\"type\":\"Grid\"}],\"left\":[{\"id\":\"1071\",\"type\":\"LinearAxis\"}],\"plot_height\":250,\"plot_width\":250,\"renderers\":[{\"id\":\"1084\",\"type\":\"GlyphRenderer\"}],\"title\":{\"id\":\"1104\",\"type\":\"Title\"},\"toolbar\":{\"id\":\"1078\",\"type\":\"Toolbar\"},\"toolbar_location\":null,\"x_range\":{\"id\":\"1003\",\"type\":\"DataRange1d\"},\"x_scale\":{\"id\":\"1062\",\"type\":\"LinearScale\"},\"y_range\":{\"id\":\"1060\",\"type\":\"DataRange1d\"},\"y_scale\":{\"id\":\"1064\",\"type\":\"LinearScale\"}},\"id\":\"1058\",\"subtype\":\"Figure\",\"type\":\"Plot\"},{\"attributes\":{\"formatter\":{\"id\":\"1107\",\"type\":\"BasicTickFormatter\"},\"ticker\":{\"id\":\"1072\",\"type\":\"BasicTicker\"}},\"id\":\"1071\",\"type\":\"LinearAxis\"},{\"attributes\":{\"ticker\":{\"id\":\"1039\",\"type\":\"BasicTicker\"}},\"id\":\"1042\",\"type\":\"Grid\"},{\"attributes\":{\"fill_alpha\":{\"value\":0.1},\"fill_color\":{\"value\":\"#1f77b4\"},\"line_alpha\":{\"value\":0.1},\"line_color\":{\"value\":\"#1f77b4\"},\"size\":{\"units\":\"screen\",\"value\":10},\"x\":{\"field\":\"x\"},\"y\":{\"field\":\"y\"}},\"id\":\"1028\",\"type\":\"Circle\"},{\"attributes\":{\"ticker\":{\"id\":\"1012\",\"type\":\"BasicTicker\"}},\"id\":\"1015\",\"type\":\"Grid\"},{\"attributes\":{},\"id\":\"1098\",\"type\":\"BasicTickFormatter\"},{\"attributes\":{},\"id\":\"1072\",\"type\":\"BasicTicker\"},{\"attributes\":{\"formatter\":{\"id\":\"1098\",\"type\":\"BasicTickFormatter\"},\"ticker\":{\"id\":\"1044\",\"type\":\"BasicTicker\"}},\"id\":\"1043\",\"type\":\"LinearAxis\"},{\"attributes\":{},\"id\":\"1100\",\"type\":\"BasicTickFormatter\"},{\"attributes\":{\"formatter\":{\"id\":\"1089\",\"type\":\"BasicTickFormatter\"},\"ticker\":{\"id\":\"1017\",\"type\":\"BasicTicker\"}},\"id\":\"1016\",\"type\":\"LinearAxis\"},{\"attributes\":{\"dimension\":1,\"ticker\":{\"id\":\"1072\",\"type\":\"BasicTicker\"}},\"id\":\"1075\",\"type\":\"Grid\"},{\"attributes\":{\"fill_color\":{\"value\":\"navy\"},\"line_color\":{\"value\":\"navy\"},\"size\":{\"units\":\"screen\",\"value\":10},\"x\":{\"field\":\"x\"},\"y\":{\"field\":\"y\"}},\"id\":\"1027\",\"type\":\"Circle\"},{\"attributes\":{},\"id\":\"1044\",\"type\":\"BasicTicker\"},{\"attributes\":{},\"id\":\"1101\",\"type\":\"Selection\"},{\"attributes\":{},\"id\":\"1017\",\"type\":\"BasicTicker\"},{\"attributes\":{\"dimension\":1,\"ticker\":{\"id\":\"1044\",\"type\":\"BasicTicker\"}},\"id\":\"1047\",\"type\":\"Grid\"},{\"attributes\":{},\"id\":\"1102\",\"type\":\"UnionRenderers\"},{\"attributes\":{\"dimension\":1,\"ticker\":{\"id\":\"1017\",\"type\":\"BasicTicker\"}},\"id\":\"1020\",\"type\":\"Grid\"},{\"attributes\":{\"active_drag\":\"auto\",\"active_inspect\":\"auto\",\"active_multi\":null,\"active_scroll\":\"auto\",\"active_tap\":\"auto\",\"tools\":[{\"id\":\"1076\",\"type\":\"PanTool\"},{\"id\":\"1077\",\"type\":\"WheelZoomTool\"}]},\"id\":\"1078\",\"type\":\"Toolbar\"},{\"attributes\":{},\"id\":\"1076\",\"type\":\"PanTool\"},{\"attributes\":{\"text\":\"\"},\"id\":\"1104\",\"type\":\"Title\"},{\"attributes\":{\"fill_color\":{\"value\":\"firebrick\"},\"line_color\":{\"value\":\"firebrick\"},\"size\":{\"units\":\"screen\",\"value\":10},\"x\":{\"field\":\"x\"},\"y\":{\"field\":\"y\"}},\"id\":\"1054\",\"type\":\"Triangle\"},{\"attributes\":{},\"id\":\"1022\",\"type\":\"WheelZoomTool\"},{\"attributes\":{\"active_drag\":\"auto\",\"active_inspect\":\"auto\",\"active_multi\":null,\"active_scroll\":\"auto\",\"active_tap\":\"auto\",\"tools\":[{\"id\":\"1048\",\"type\":\"PanTool\"},{\"id\":\"1049\",\"type\":\"WheelZoomTool\"}]},\"id\":\"1050\",\"type\":\"Toolbar\"},{\"attributes\":{\"active_drag\":\"auto\",\"active_inspect\":\"auto\",\"active_multi\":null,\"active_scroll\":\"auto\",\"active_tap\":\"auto\",\"tools\":[{\"id\":\"1021\",\"type\":\"PanTool\"},{\"id\":\"1022\",\"type\":\"WheelZoomTool\"}]},\"id\":\"1023\",\"type\":\"Toolbar\"},{\"attributes\":{},\"id\":\"1077\",\"type\":\"WheelZoomTool\"},{\"attributes\":{},\"id\":\"1048\",\"type\":\"PanTool\"},{\"attributes\":{},\"id\":\"1107\",\"type\":\"BasicTickFormatter\"},{\"attributes\":{},\"id\":\"1021\",\"type\":\"PanTool\"},{\"attributes\":{},\"id\":\"1049\",\"type\":\"WheelZoomTool\"},{\"attributes\":{},\"id\":\"1109\",\"type\":\"BasicTickFormatter\"},{\"attributes\":{\"children\":[[{\"id\":\"1002\",\"subtype\":\"Figure\",\"type\":\"Plot\"},0,0],[{\"id\":\"1031\",\"subtype\":\"Figure\",\"type\":\"Plot\"},0,1],[{\"id\":\"1058\",\"subtype\":\"Figure\",\"type\":\"Plot\"},0,2]]},\"id\":\"1113\",\"type\":\"GridBox\"},{\"attributes\":{\"fill_color\":{\"value\":\"olive\"},\"line_color\":{\"value\":\"olive\"},\"size\":{\"units\":\"screen\",\"value\":10},\"x\":{\"field\":\"x\"},\"y\":{\"field\":\"y\"}},\"id\":\"1082\",\"type\":\"Square\"},{\"attributes\":{},\"id\":\"1110\",\"type\":\"Selection\"},{\"attributes\":{\"data_source\":{\"id\":\"1026\",\"type\":\"ColumnDataSource\"},\"glyph\":{\"id\":\"1027\",\"type\":\"Circle\"},\"hover_glyph\":null,\"muted_glyph\":null,\"nonselection_glyph\":{\"id\":\"1028\",\"type\":\"Circle\"},\"selection_glyph\":null,\"view\":{\"id\":\"1030\",\"type\":\"CDSView\"}},\"id\":\"1029\",\"type\":\"GlyphRenderer\"},{\"attributes\":{},\"id\":\"1091\",\"type\":\"BasicTickFormatter\"},{\"attributes\":{\"below\":[{\"id\":\"1038\",\"type\":\"LinearAxis\"}],\"center\":[{\"id\":\"1042\",\"type\":\"Grid\"},{\"id\":\"1047\",\"type\":\"Grid\"}],\"left\":[{\"id\":\"1043\",\"type\":\"LinearAxis\"}],\"plot_height\":250,\"plot_width\":250,\"renderers\":[{\"id\":\"1056\",\"type\":\"GlyphRenderer\"}],\"title\":{\"id\":\"1095\",\"type\":\"Title\"},\"toolbar\":{\"id\":\"1050\",\"type\":\"Toolbar\"},\"toolbar_location\":null,\"x_range\":{\"id\":\"1003\",\"type\":\"DataRange1d\"},\"x_scale\":{\"id\":\"1034\",\"type\":\"LinearScale\"},\"y_range\":{\"id\":\"1005\",\"type\":\"DataRange1d\"},\"y_scale\":{\"id\":\"1036\",\"type\":\"LinearScale\"}},\"id\":\"1031\",\"subtype\":\"Figure\",\"type\":\"Plot\"},{\"attributes\":{\"fill_alpha\":{\"value\":0.1},\"fill_color\":{\"value\":\"#1f77b4\"},\"line_alpha\":{\"value\":0.1},\"line_color\":{\"value\":\"#1f77b4\"},\"size\":{\"units\":\"screen\",\"value\":10},\"x\":{\"field\":\"x\"},\"y\":{\"field\":\"y\"}},\"id\":\"1083\",\"type\":\"Square\"},{\"attributes\":{\"fill_alpha\":{\"value\":0.1},\"fill_color\":{\"value\":\"#1f77b4\"},\"line_alpha\":{\"value\":0.1},\"line_color\":{\"value\":\"#1f77b4\"},\"size\":{\"units\":\"screen\",\"value\":10},\"x\":{\"field\":\"x\"},\"y\":{\"field\":\"y\"}},\"id\":\"1055\",\"type\":\"Triangle\"},{\"attributes\":{},\"id\":\"1111\",\"type\":\"UnionRenderers\"},{\"attributes\":{\"data_source\":{\"id\":\"1081\",\"type\":\"ColumnDataSource\"},\"glyph\":{\"id\":\"1082\",\"type\":\"Square\"},\"hover_glyph\":null,\"muted_glyph\":null,\"nonselection_glyph\":{\"id\":\"1083\",\"type\":\"Square\"},\"selection_glyph\":null,\"view\":{\"id\":\"1085\",\"type\":\"CDSView\"}},\"id\":\"1084\",\"type\":\"GlyphRenderer\"},{\"attributes\":{\"data_source\":{\"id\":\"1053\",\"type\":\"ColumnDataSource\"},\"glyph\":{\"id\":\"1054\",\"type\":\"Triangle\"},\"hover_glyph\":null,\"muted_glyph\":null,\"nonselection_glyph\":{\"id\":\"1055\",\"type\":\"Triangle\"},\"selection_glyph\":null,\"view\":{\"id\":\"1057\",\"type\":\"CDSView\"}},\"id\":\"1056\",\"type\":\"GlyphRenderer\"},{\"attributes\":{\"toolbar\":{\"id\":\"1114\",\"type\":\"ProxyToolbar\"},\"toolbar_location\":\"above\"},\"id\":\"1115\",\"type\":\"ToolbarBox\"},{\"attributes\":{\"below\":[{\"id\":\"1011\",\"type\":\"LinearAxis\"}],\"center\":[{\"id\":\"1015\",\"type\":\"Grid\"},{\"id\":\"1020\",\"type\":\"Grid\"}],\"left\":[{\"id\":\"1016\",\"type\":\"LinearAxis\"}],\"plot_height\":250,\"plot_width\":250,\"renderers\":[{\"id\":\"1029\",\"type\":\"GlyphRenderer\"}],\"title\":{\"id\":\"1086\",\"type\":\"Title\"},\"toolbar\":{\"id\":\"1023\",\"type\":\"Toolbar\"},\"toolbar_location\":null,\"x_range\":{\"id\":\"1003\",\"type\":\"DataRange1d\"},\"x_scale\":{\"id\":\"1007\",\"type\":\"LinearScale\"},\"y_range\":{\"id\":\"1005\",\"type\":\"DataRange1d\"},\"y_scale\":{\"id\":\"1009\",\"type\":\"LinearScale\"}},\"id\":\"1002\",\"subtype\":\"Figure\",\"type\":\"Plot\"},{\"attributes\":{\"source\":{\"id\":\"1081\",\"type\":\"ColumnDataSource\"}},\"id\":\"1085\",\"type\":\"CDSView\"},{\"attributes\":{\"source\":{\"id\":\"1053\",\"type\":\"ColumnDataSource\"}},\"id\":\"1057\",\"type\":\"CDSView\"},{\"attributes\":{\"callback\":null,\"data\":{\"x\":[0,1,2,3,4,5,6,7,8,9,10],\"y\":[5,4,3,2,1,0,1,2,3,4,5]},\"selected\":{\"id\":\"1110\",\"type\":\"Selection\"},\"selection_policy\":{\"id\":\"1111\",\"type\":\"UnionRenderers\"}},\"id\":\"1081\",\"type\":\"ColumnDataSource\"},{\"attributes\":{\"tools\":[{\"id\":\"1021\",\"type\":\"PanTool\"},{\"id\":\"1022\",\"type\":\"WheelZoomTool\"},{\"id\":\"1048\",\"type\":\"PanTool\"},{\"id\":\"1049\",\"type\":\"WheelZoomTool\"},{\"id\":\"1076\",\"type\":\"PanTool\"},{\"id\":\"1077\",\"type\":\"WheelZoomTool\"}]},\"id\":\"1114\",\"type\":\"ProxyToolbar\"},{\"attributes\":{\"callback\":null},\"id\":\"1003\",\"type\":\"DataRange1d\"},{\"attributes\":{\"text\":\"\"},\"id\":\"1086\",\"type\":\"Title\"},{\"attributes\":{\"source\":{\"id\":\"1026\",\"type\":\"ColumnDataSource\"}},\"id\":\"1030\",\"type\":\"CDSView\"},{\"attributes\":{\"callback\":null},\"id\":\"1005\",\"type\":\"DataRange1d\"},{\"attributes\":{\"callback\":null},\"id\":\"1060\",\"type\":\"DataRange1d\"},{\"attributes\":{\"callback\":null,\"data\":{\"x\":[0,1,2,3,4,5,6,7,8,9,10],\"y\":[0,1,2,3,4,5,6,7,8,9,10]},\"selected\":{\"id\":\"1092\",\"type\":\"Selection\"},\"selection_policy\":{\"id\":\"1093\",\"type\":\"UnionRenderers\"}},\"id\":\"1026\",\"type\":\"ColumnDataSource\"},{\"attributes\":{},\"id\":\"1089\",\"type\":\"BasicTickFormatter\"},{\"attributes\":{\"callback\":null,\"data\":{\"x\":[0,1,2,3,4,5,6,7,8,9,10],\"y\":[10,9,8,7,6,5,4,3,2,1,0]},\"selected\":{\"id\":\"1101\",\"type\":\"Selection\"},\"selection_policy\":{\"id\":\"1102\",\"type\":\"UnionRenderers\"}},\"id\":\"1053\",\"type\":\"ColumnDataSource\"},{\"attributes\":{},\"id\":\"1062\",\"type\":\"LinearScale\"},{\"attributes\":{},\"id\":\"1007\",\"type\":\"LinearScale\"},{\"attributes\":{},\"id\":\"1034\",\"type\":\"LinearScale\"},{\"attributes\":{},\"id\":\"1064\",\"type\":\"LinearScale\"},{\"attributes\":{},\"id\":\"1009\",\"type\":\"LinearScale\"}],\"root_ids\":[\"1116\"]},\"title\":\"Bokeh Application\",\"version\":\"1.1.0\"}};\n",
       "  var render_items = [{\"docid\":\"cfa441ae-f041-4a31-9795-8461bedb559b\",\"roots\":{\"1116\":\"632531bc-9996-4630-addc-48dd75350a2f\"}}];\n",
       "  root.Bokeh.embed.embed_items_notebook(docs_json, render_items);\n",
       "\n",
       "  }\n",
       "  if (root.Bokeh !== undefined) {\n",
       "    embed_document(root);\n",
       "  } else {\n",
       "    var attempts = 0;\n",
       "    var timer = setInterval(function(root) {\n",
       "      if (root.Bokeh !== undefined) {\n",
       "        embed_document(root);\n",
       "        clearInterval(timer);\n",
       "      }\n",
       "      attempts++;\n",
       "      if (attempts > 100) {\n",
       "        console.log(\"Bokeh: ERROR: Unable to run BokehJS code because BokehJS library is missing\");\n",
       "        clearInterval(timer);\n",
       "      }\n",
       "    }, 10, root)\n",
       "  }\n",
       "})(window);"
      ],
      "application/vnd.bokehjs_exec.v0+json": ""
     },
     "metadata": {
      "application/vnd.bokehjs_exec.v0+json": {
       "id": "1116"
      }
     },
     "output_type": "display_data"
    }
   ],
   "source": [
    "from bokeh.layouts import gridplot\n",
    "\n",
    "x = list(range(11))\n",
    "y0, y1, y2 = x, [10-i for i in x], [abs(i-5) for i in x]\n",
    "\n",
    "plot_options = dict(width=250, plot_height=250, tools='pan,wheel_zoom')\n",
    "\n",
    "# create a new plot\n",
    "s1 = figure(**plot_options)\n",
    "s1.circle(x, y0, size=10, color=\"navy\")\n",
    "\n",
    "# create a new plot and share both ranges\n",
    "s2 = figure(x_range=s1.x_range, y_range=s1.y_range, **plot_options)\n",
    "s2.triangle(x, y1, size=10, color=\"firebrick\")\n",
    "\n",
    "# create a new plot and share only one range\n",
    "s3 = figure(x_range=s1.x_range, **plot_options)\n",
    "s3.square(x, y2, size=10, color=\"olive\")\n",
    "\n",
    "p = gridplot([[s1, s2, s3]])\n",
    "\n",
    "# show the results\n",
    "show(p)"
   ]
  },
  {
   "cell_type": "code",
   "execution_count": 3,
   "metadata": {},
   "outputs": [],
   "source": [
    "# EXERCISE: create two plots in a gridplot, and link their ranges\n"
   ]
  },
  {
   "cell_type": "markdown",
   "metadata": {},
   "source": [
    "## Linked brushing\n",
    "\n",
    "Linking selections is accomplished in a similar way, by sharing data sources between plots. Note that normally with ``bokeh.plotting`` and ``bokeh.charts`` creating a default data source for simple plots is handled automatically. However to share a data source, we must create them by hand and pass them explicitly. This is illustrated in the example below:"
   ]
  },
  {
   "cell_type": "code",
   "execution_count": 4,
   "metadata": {},
   "outputs": [
    {
     "data": {
      "text/html": [
       "\n",
       "\n",
       "\n",
       "\n",
       "\n",
       "\n",
       "  <div class=\"bk-root\" id=\"e51b6e17-d4a2-408f-ac81-f1a5b0f61cf9\" data-root-id=\"1373\"></div>\n"
      ]
     },
     "metadata": {},
     "output_type": "display_data"
    },
    {
     "data": {
      "application/javascript": [
       "(function(root) {\n",
       "  function embed_document(root) {\n",
       "    \n",
       "  var docs_json = {\"b12808d3-26fd-4467-bb40-dd0b898aa3b1\":{\"roots\":{\"references\":[{\"attributes\":{\"children\":[{\"id\":\"1372\",\"type\":\"ToolbarBox\"},{\"id\":\"1370\",\"type\":\"GridBox\"}]},\"id\":\"1373\",\"type\":\"Column\"},{\"attributes\":{\"source\":{\"id\":\"1285\",\"type\":\"ColumnDataSource\"}},\"id\":\"1316\",\"type\":\"CDSView\"},{\"attributes\":{\"active_drag\":\"auto\",\"active_inspect\":\"auto\",\"active_multi\":null,\"active_scroll\":\"auto\",\"active_tap\":\"auto\",\"tools\":[{\"id\":\"1336\",\"type\":\"BoxSelectTool\"},{\"id\":\"1337\",\"type\":\"LassoSelectTool\"},{\"id\":\"1338\",\"type\":\"HelpTool\"}]},\"id\":\"1339\",\"type\":\"Toolbar\"},{\"attributes\":{\"below\":[{\"id\":\"1295\",\"type\":\"LinearAxis\"}],\"center\":[{\"id\":\"1299\",\"type\":\"Grid\"},{\"id\":\"1304\",\"type\":\"Grid\"}],\"left\":[{\"id\":\"1300\",\"type\":\"LinearAxis\"}],\"plot_height\":300,\"plot_width\":300,\"renderers\":[{\"id\":\"1315\",\"type\":\"GlyphRenderer\"}],\"title\":{\"id\":\"1348\",\"type\":\"Title\"},\"toolbar\":{\"id\":\"1308\",\"type\":\"Toolbar\"},\"toolbar_location\":null,\"x_range\":{\"id\":\"1287\",\"type\":\"DataRange1d\"},\"x_scale\":{\"id\":\"1291\",\"type\":\"LinearScale\"},\"y_range\":{\"id\":\"1289\",\"type\":\"DataRange1d\"},\"y_scale\":{\"id\":\"1293\",\"type\":\"LinearScale\"}},\"id\":\"1286\",\"subtype\":\"Figure\",\"type\":\"Plot\"},{\"attributes\":{\"below\":[{\"id\":\"1326\",\"type\":\"LinearAxis\"}],\"center\":[{\"id\":\"1330\",\"type\":\"Grid\"},{\"id\":\"1335\",\"type\":\"Grid\"}],\"left\":[{\"id\":\"1331\",\"type\":\"LinearAxis\"}],\"plot_height\":300,\"plot_width\":300,\"renderers\":[{\"id\":\"1346\",\"type\":\"GlyphRenderer\"}],\"title\":{\"id\":\"1359\",\"type\":\"Title\"},\"toolbar\":{\"id\":\"1339\",\"type\":\"Toolbar\"},\"toolbar_location\":null,\"x_range\":{\"id\":\"1318\",\"type\":\"DataRange1d\"},\"x_scale\":{\"id\":\"1322\",\"type\":\"LinearScale\"},\"y_range\":{\"id\":\"1320\",\"type\":\"DataRange1d\"},\"y_scale\":{\"id\":\"1324\",\"type\":\"LinearScale\"}},\"id\":\"1317\",\"subtype\":\"Figure\",\"type\":\"Plot\"},{\"attributes\":{},\"id\":\"1353\",\"type\":\"BasicTickFormatter\"},{\"attributes\":{},\"id\":\"1324\",\"type\":\"LinearScale\"},{\"attributes\":{},\"id\":\"1291\",\"type\":\"LinearScale\"},{\"attributes\":{\"bottom_units\":\"screen\",\"fill_alpha\":{\"value\":0.5},\"fill_color\":{\"value\":\"lightgrey\"},\"left_units\":\"screen\",\"level\":\"overlay\",\"line_alpha\":{\"value\":1.0},\"line_color\":{\"value\":\"black\"},\"line_dash\":[4,4],\"line_width\":{\"value\":2},\"render_mode\":\"css\",\"right_units\":\"screen\",\"top_units\":\"screen\"},\"id\":\"1354\",\"type\":\"BoxAnnotation\"},{\"attributes\":{\"formatter\":{\"id\":\"1364\",\"type\":\"BasicTickFormatter\"},\"ticker\":{\"id\":\"1327\",\"type\":\"BasicTicker\"}},\"id\":\"1326\",\"type\":\"LinearAxis\"},{\"attributes\":{\"callback\":null},\"id\":\"1287\",\"type\":\"DataRange1d\"},{\"attributes\":{},\"id\":\"1356\",\"type\":\"Selection\"},{\"attributes\":{\"text\":\"\"},\"id\":\"1348\",\"type\":\"Title\"},{\"attributes\":{\"fill_color\":{\"value\":\"#1f77b4\"},\"line_color\":{\"value\":\"#1f77b4\"},\"x\":{\"field\":\"x\"},\"y\":{\"field\":\"y1\"}},\"id\":\"1344\",\"type\":\"Circle\"},{\"attributes\":{\"callback\":null},\"id\":\"1289\",\"type\":\"DataRange1d\"},{\"attributes\":{\"bottom_units\":\"screen\",\"fill_alpha\":{\"value\":0.5},\"fill_color\":{\"value\":\"lightgrey\"},\"left_units\":\"screen\",\"level\":\"overlay\",\"line_alpha\":{\"value\":1.0},\"line_color\":{\"value\":\"black\"},\"line_dash\":[4,4],\"line_width\":{\"value\":2},\"render_mode\":\"css\",\"right_units\":\"screen\",\"top_units\":\"screen\"},\"id\":\"1365\",\"type\":\"BoxAnnotation\"},{\"attributes\":{},\"id\":\"1327\",\"type\":\"BasicTicker\"},{\"attributes\":{\"fill_color\":{\"value\":\"#1f77b4\"},\"line_color\":{\"value\":\"#1f77b4\"},\"x\":{\"field\":\"x\"},\"y\":{\"field\":\"y0\"}},\"id\":\"1313\",\"type\":\"Circle\"},{\"attributes\":{\"formatter\":{\"id\":\"1362\",\"type\":\"BasicTickFormatter\"},\"ticker\":{\"id\":\"1332\",\"type\":\"BasicTicker\"}},\"id\":\"1331\",\"type\":\"LinearAxis\"},{\"attributes\":{\"children\":[[{\"id\":\"1286\",\"subtype\":\"Figure\",\"type\":\"Plot\"},0,0],[{\"id\":\"1317\",\"subtype\":\"Figure\",\"type\":\"Plot\"},0,1]]},\"id\":\"1370\",\"type\":\"GridBox\"},{\"attributes\":{\"data_source\":{\"id\":\"1285\",\"type\":\"ColumnDataSource\"},\"glyph\":{\"id\":\"1344\",\"type\":\"Circle\"},\"hover_glyph\":null,\"muted_glyph\":null,\"nonselection_glyph\":{\"id\":\"1345\",\"type\":\"Circle\"},\"selection_glyph\":null,\"view\":{\"id\":\"1347\",\"type\":\"CDSView\"}},\"id\":\"1346\",\"type\":\"GlyphRenderer\"},{\"attributes\":{\"ticker\":{\"id\":\"1327\",\"type\":\"BasicTicker\"}},\"id\":\"1330\",\"type\":\"Grid\"},{\"attributes\":{\"source\":{\"id\":\"1285\",\"type\":\"ColumnDataSource\"}},\"id\":\"1347\",\"type\":\"CDSView\"},{\"attributes\":{\"data_source\":{\"id\":\"1285\",\"type\":\"ColumnDataSource\"},\"glyph\":{\"id\":\"1313\",\"type\":\"Circle\"},\"hover_glyph\":null,\"muted_glyph\":null,\"nonselection_glyph\":{\"id\":\"1314\",\"type\":\"Circle\"},\"selection_glyph\":null,\"view\":{\"id\":\"1316\",\"type\":\"CDSView\"}},\"id\":\"1315\",\"type\":\"GlyphRenderer\"},{\"attributes\":{},\"id\":\"1332\",\"type\":\"BasicTicker\"},{\"attributes\":{\"formatter\":{\"id\":\"1351\",\"type\":\"BasicTickFormatter\"},\"ticker\":{\"id\":\"1301\",\"type\":\"BasicTicker\"}},\"id\":\"1300\",\"type\":\"LinearAxis\"},{\"attributes\":{},\"id\":\"1351\",\"type\":\"BasicTickFormatter\"},{\"attributes\":{},\"id\":\"1293\",\"type\":\"LinearScale\"},{\"attributes\":{\"dimension\":1,\"ticker\":{\"id\":\"1332\",\"type\":\"BasicTicker\"}},\"id\":\"1335\",\"type\":\"Grid\"},{\"attributes\":{\"callback\":null,\"data\":{\"x\":[-20,-19,-18,-17,-16,-15,-14,-13,-12,-11,-10,-9,-8,-7,-6,-5,-4,-3,-2,-1,0,1,2,3,4,5,6,7,8,9,10,11,12,13,14,15,16,17,18,19,20],\"y0\":[20,19,18,17,16,15,14,13,12,11,10,9,8,7,6,5,4,3,2,1,0,1,2,3,4,5,6,7,8,9,10,11,12,13,14,15,16,17,18,19,20],\"y1\":[400,361,324,289,256,225,196,169,144,121,100,81,64,49,36,25,16,9,4,1,0,1,4,9,16,25,36,49,64,81,100,121,144,169,196,225,256,289,324,361,400]},\"selected\":{\"id\":\"1356\",\"type\":\"Selection\"},\"selection_policy\":{\"id\":\"1357\",\"type\":\"UnionRenderers\"}},\"id\":\"1285\",\"type\":\"ColumnDataSource\"},{\"attributes\":{},\"id\":\"1296\",\"type\":\"BasicTicker\"},{\"attributes\":{},\"id\":\"1357\",\"type\":\"UnionRenderers\"},{\"attributes\":{\"callback\":null,\"overlay\":{\"id\":\"1365\",\"type\":\"BoxAnnotation\"}},\"id\":\"1336\",\"type\":\"BoxSelectTool\"},{\"attributes\":{\"formatter\":{\"id\":\"1353\",\"type\":\"BasicTickFormatter\"},\"ticker\":{\"id\":\"1296\",\"type\":\"BasicTicker\"}},\"id\":\"1295\",\"type\":\"LinearAxis\"},{\"attributes\":{\"callback\":null,\"overlay\":{\"id\":\"1366\",\"type\":\"PolyAnnotation\"}},\"id\":\"1337\",\"type\":\"LassoSelectTool\"},{\"attributes\":{\"ticker\":{\"id\":\"1296\",\"type\":\"BasicTicker\"}},\"id\":\"1299\",\"type\":\"Grid\"},{\"attributes\":{\"fill_alpha\":{\"value\":0.5},\"fill_color\":{\"value\":\"lightgrey\"},\"level\":\"overlay\",\"line_alpha\":{\"value\":1.0},\"line_color\":{\"value\":\"black\"},\"line_dash\":[4,4],\"line_width\":{\"value\":2},\"xs_units\":\"screen\",\"ys_units\":\"screen\"},\"id\":\"1355\",\"type\":\"PolyAnnotation\"},{\"attributes\":{\"fill_alpha\":{\"value\":0.5},\"fill_color\":{\"value\":\"lightgrey\"},\"level\":\"overlay\",\"line_alpha\":{\"value\":1.0},\"line_color\":{\"value\":\"black\"},\"line_dash\":[4,4],\"line_width\":{\"value\":2},\"xs_units\":\"screen\",\"ys_units\":\"screen\"},\"id\":\"1366\",\"type\":\"PolyAnnotation\"},{\"attributes\":{},\"id\":\"1301\",\"type\":\"BasicTicker\"},{\"attributes\":{},\"id\":\"1338\",\"type\":\"HelpTool\"},{\"attributes\":{\"callback\":null},\"id\":\"1318\",\"type\":\"DataRange1d\"},{\"attributes\":{\"dimension\":1,\"ticker\":{\"id\":\"1301\",\"type\":\"BasicTicker\"}},\"id\":\"1304\",\"type\":\"Grid\"},{\"attributes\":{\"fill_alpha\":{\"value\":0.1},\"fill_color\":{\"value\":\"#1f77b4\"},\"line_alpha\":{\"value\":0.1},\"line_color\":{\"value\":\"#1f77b4\"},\"x\":{\"field\":\"x\"},\"y\":{\"field\":\"y1\"}},\"id\":\"1345\",\"type\":\"Circle\"},{\"attributes\":{\"text\":\"\"},\"id\":\"1359\",\"type\":\"Title\"},{\"attributes\":{},\"id\":\"1322\",\"type\":\"LinearScale\"},{\"attributes\":{},\"id\":\"1307\",\"type\":\"HelpTool\"},{\"attributes\":{\"callback\":null},\"id\":\"1320\",\"type\":\"DataRange1d\"},{\"attributes\":{\"callback\":null,\"overlay\":{\"id\":\"1354\",\"type\":\"BoxAnnotation\"}},\"id\":\"1305\",\"type\":\"BoxSelectTool\"},{\"attributes\":{},\"id\":\"1362\",\"type\":\"BasicTickFormatter\"},{\"attributes\":{\"active_drag\":\"auto\",\"active_inspect\":\"auto\",\"active_multi\":null,\"active_scroll\":\"auto\",\"active_tap\":\"auto\",\"tools\":[{\"id\":\"1305\",\"type\":\"BoxSelectTool\"},{\"id\":\"1306\",\"type\":\"LassoSelectTool\"},{\"id\":\"1307\",\"type\":\"HelpTool\"}]},\"id\":\"1308\",\"type\":\"Toolbar\"},{\"attributes\":{},\"id\":\"1364\",\"type\":\"BasicTickFormatter\"},{\"attributes\":{\"tools\":[{\"id\":\"1305\",\"type\":\"BoxSelectTool\"},{\"id\":\"1306\",\"type\":\"LassoSelectTool\"},{\"id\":\"1307\",\"type\":\"HelpTool\"},{\"id\":\"1336\",\"type\":\"BoxSelectTool\"},{\"id\":\"1337\",\"type\":\"LassoSelectTool\"},{\"id\":\"1338\",\"type\":\"HelpTool\"}]},\"id\":\"1371\",\"type\":\"ProxyToolbar\"},{\"attributes\":{\"fill_alpha\":{\"value\":0.1},\"fill_color\":{\"value\":\"#1f77b4\"},\"line_alpha\":{\"value\":0.1},\"line_color\":{\"value\":\"#1f77b4\"},\"x\":{\"field\":\"x\"},\"y\":{\"field\":\"y0\"}},\"id\":\"1314\",\"type\":\"Circle\"},{\"attributes\":{\"toolbar\":{\"id\":\"1371\",\"type\":\"ProxyToolbar\"},\"toolbar_location\":\"above\"},\"id\":\"1372\",\"type\":\"ToolbarBox\"},{\"attributes\":{\"callback\":null,\"overlay\":{\"id\":\"1355\",\"type\":\"PolyAnnotation\"}},\"id\":\"1306\",\"type\":\"LassoSelectTool\"}],\"root_ids\":[\"1373\"]},\"title\":\"Bokeh Application\",\"version\":\"1.1.0\"}};\n",
       "  var render_items = [{\"docid\":\"b12808d3-26fd-4467-bb40-dd0b898aa3b1\",\"roots\":{\"1373\":\"e51b6e17-d4a2-408f-ac81-f1a5b0f61cf9\"}}];\n",
       "  root.Bokeh.embed.embed_items_notebook(docs_json, render_items);\n",
       "\n",
       "  }\n",
       "  if (root.Bokeh !== undefined) {\n",
       "    embed_document(root);\n",
       "  } else {\n",
       "    var attempts = 0;\n",
       "    var timer = setInterval(function(root) {\n",
       "      if (root.Bokeh !== undefined) {\n",
       "        embed_document(root);\n",
       "        clearInterval(timer);\n",
       "      }\n",
       "      attempts++;\n",
       "      if (attempts > 100) {\n",
       "        console.log(\"Bokeh: ERROR: Unable to run BokehJS code because BokehJS library is missing\");\n",
       "        clearInterval(timer);\n",
       "      }\n",
       "    }, 10, root)\n",
       "  }\n",
       "})(window);"
      ],
      "application/vnd.bokehjs_exec.v0+json": ""
     },
     "metadata": {
      "application/vnd.bokehjs_exec.v0+json": {
       "id": "1373"
      }
     },
     "output_type": "display_data"
    }
   ],
   "source": [
    "from bokeh.models import ColumnDataSource\n",
    "\n",
    "x = list(range(-20, 21))\n",
    "y0, y1 = [abs(xx) for xx in x], [xx**2 for xx in x]\n",
    "\n",
    "# create a column data source for the plots to share\n",
    "source = ColumnDataSource(data=dict(x=x, y0=y0, y1=y1))\n",
    "\n",
    "TOOLS = \"box_select,lasso_select,help\"\n",
    "\n",
    "# create a new plot and add a renderer\n",
    "left = figure(tools=TOOLS, width=300, height=300)\n",
    "left.circle('x', 'y0', source=source)\n",
    "\n",
    "# create another new plot and add a renderer\n",
    "right = figure(tools=TOOLS, width=300, height=300)\n",
    "right.circle('x', 'y1', source=source)\n",
    "\n",
    "p = gridplot([[left, right]])\n",
    "\n",
    "show(p)"
   ]
  },
  {
   "cell_type": "code",
   "execution_count": 5,
   "metadata": {},
   "outputs": [],
   "source": [
    "# EXERCISE: create two plots in a gridplot, and link their data sources\n",
    "\n"
   ]
  },
  {
   "cell_type": "markdown",
   "metadata": {},
   "source": [
    "# Hover Tools\n",
    "\n",
    "Bokeh has a Hover Tool that allows additional information to be displayed in a popup whenever the user hovers over a specific glyph. Basic hover tool configuration amounts to providing a list of ``(name, format)`` tuples. The full details can be found in the User's Guide [here](http://bokeh.pydata.org/en/latest/docs/user_guide/tools.html#hovertool).\n",
    "\n",
    "The example below shows some basic usage of the Hover tool with a circle glyph, using hover information defined in utils.py:"
   ]
  },
  {
   "cell_type": "code",
   "execution_count": 6,
   "metadata": {},
   "outputs": [
    {
     "data": {
      "text/html": [
       "\n",
       "\n",
       "\n",
       "\n",
       "\n",
       "\n",
       "  <div class=\"bk-root\" id=\"970b4ea5-596a-4f25-89f9-5e275cd476ad\" data-root-id=\"1528\"></div>\n"
      ]
     },
     "metadata": {},
     "output_type": "display_data"
    },
    {
     "data": {
      "application/javascript": [
       "(function(root) {\n",
       "  function embed_document(root) {\n",
       "    \n",
       "  var docs_json = {\"3d72cbcb-4c44-4d21-8b95-9a06bc7561e9\":{\"roots\":{\"references\":[{\"attributes\":{\"below\":[{\"id\":\"1539\",\"type\":\"LinearAxis\"}],\"center\":[{\"id\":\"1543\",\"type\":\"Grid\"},{\"id\":\"1548\",\"type\":\"Grid\"}],\"left\":[{\"id\":\"1544\",\"type\":\"LinearAxis\"}],\"plot_height\":300,\"plot_width\":300,\"renderers\":[{\"id\":\"1554\",\"type\":\"GlyphRenderer\"}],\"title\":{\"id\":\"1529\",\"type\":\"Title\"},\"toolbar\":{\"id\":\"1549\",\"type\":\"Toolbar\"},\"x_range\":{\"id\":\"1531\",\"type\":\"DataRange1d\"},\"x_scale\":{\"id\":\"1535\",\"type\":\"LinearScale\"},\"y_range\":{\"id\":\"1533\",\"type\":\"DataRange1d\"},\"y_scale\":{\"id\":\"1537\",\"type\":\"LinearScale\"}},\"id\":\"1528\",\"subtype\":\"Figure\",\"type\":\"Plot\"},{\"attributes\":{},\"id\":\"1540\",\"type\":\"BasicTicker\"},{\"attributes\":{\"ticker\":{\"id\":\"1540\",\"type\":\"BasicTicker\"}},\"id\":\"1543\",\"type\":\"Grid\"},{\"attributes\":{\"callback\":null},\"id\":\"1533\",\"type\":\"DataRange1d\"},{\"attributes\":{\"formatter\":{\"id\":\"1600\",\"type\":\"BasicTickFormatter\"},\"ticker\":{\"id\":\"1545\",\"type\":\"BasicTicker\"}},\"id\":\"1544\",\"type\":\"LinearAxis\"},{\"attributes\":{},\"id\":\"1545\",\"type\":\"BasicTicker\"},{\"attributes\":{\"dimension\":1,\"ticker\":{\"id\":\"1545\",\"type\":\"BasicTicker\"}},\"id\":\"1548\",\"type\":\"Grid\"},{\"attributes\":{\"active_drag\":\"auto\",\"active_inspect\":\"auto\",\"active_multi\":null,\"active_scroll\":\"auto\",\"active_tap\":\"auto\",\"tools\":[{\"id\":\"1527\",\"type\":\"HoverTool\"}]},\"id\":\"1549\",\"type\":\"Toolbar\"},{\"attributes\":{},\"id\":\"1600\",\"type\":\"BasicTickFormatter\"},{\"attributes\":{\"text\":\"Mouse over the dots\"},\"id\":\"1529\",\"type\":\"Title\"},{\"attributes\":{\"fill_color\":{\"value\":\"#1f77b4\"},\"line_color\":{\"value\":\"#1f77b4\"},\"size\":{\"units\":\"screen\",\"value\":20},\"x\":{\"field\":\"x\"},\"y\":{\"field\":\"y\"}},\"id\":\"1552\",\"type\":\"Circle\"},{\"attributes\":{\"callback\":null},\"id\":\"1531\",\"type\":\"DataRange1d\"},{\"attributes\":{\"fill_alpha\":{\"value\":0.1},\"fill_color\":{\"value\":\"#1f77b4\"},\"line_alpha\":{\"value\":0.1},\"line_color\":{\"value\":\"#1f77b4\"},\"size\":{\"units\":\"screen\",\"value\":20},\"x\":{\"field\":\"x\"},\"y\":{\"field\":\"y\"}},\"id\":\"1553\",\"type\":\"Circle\"},{\"attributes\":{\"data_source\":{\"id\":\"1526\",\"type\":\"ColumnDataSource\"},\"glyph\":{\"id\":\"1552\",\"type\":\"Circle\"},\"hover_glyph\":null,\"muted_glyph\":null,\"nonselection_glyph\":{\"id\":\"1553\",\"type\":\"Circle\"},\"selection_glyph\":null,\"view\":{\"id\":\"1555\",\"type\":\"CDSView\"}},\"id\":\"1554\",\"type\":\"GlyphRenderer\"},{\"attributes\":{\"callback\":null,\"tooltips\":[[\"index\",\"$index\"],[\"(x,y)\",\"($x, $y)\"],[\"desc\",\"@desc\"]]},\"id\":\"1527\",\"type\":\"HoverTool\"},{\"attributes\":{},\"id\":\"1537\",\"type\":\"LinearScale\"},{\"attributes\":{\"source\":{\"id\":\"1526\",\"type\":\"ColumnDataSource\"}},\"id\":\"1555\",\"type\":\"CDSView\"},{\"attributes\":{},\"id\":\"1602\",\"type\":\"BasicTickFormatter\"},{\"attributes\":{},\"id\":\"1603\",\"type\":\"Selection\"},{\"attributes\":{\"formatter\":{\"id\":\"1602\",\"type\":\"BasicTickFormatter\"},\"ticker\":{\"id\":\"1540\",\"type\":\"BasicTicker\"}},\"id\":\"1539\",\"type\":\"LinearAxis\"},{\"attributes\":{},\"id\":\"1535\",\"type\":\"LinearScale\"},{\"attributes\":{},\"id\":\"1604\",\"type\":\"UnionRenderers\"},{\"attributes\":{\"callback\":null,\"data\":{\"desc\":[\"A\",\"b\",\"C\",\"d\",\"E\"],\"x\":[1,2,3,4,5],\"y\":[2,5,8,2,7]},\"selected\":{\"id\":\"1603\",\"type\":\"Selection\"},\"selection_policy\":{\"id\":\"1604\",\"type\":\"UnionRenderers\"}},\"id\":\"1526\",\"type\":\"ColumnDataSource\"}],\"root_ids\":[\"1528\"]},\"title\":\"Bokeh Application\",\"version\":\"1.1.0\"}};\n",
       "  var render_items = [{\"docid\":\"3d72cbcb-4c44-4d21-8b95-9a06bc7561e9\",\"roots\":{\"1528\":\"970b4ea5-596a-4f25-89f9-5e275cd476ad\"}}];\n",
       "  root.Bokeh.embed.embed_items_notebook(docs_json, render_items);\n",
       "\n",
       "  }\n",
       "  if (root.Bokeh !== undefined) {\n",
       "    embed_document(root);\n",
       "  } else {\n",
       "    var attempts = 0;\n",
       "    var timer = setInterval(function(root) {\n",
       "      if (root.Bokeh !== undefined) {\n",
       "        embed_document(root);\n",
       "        clearInterval(timer);\n",
       "      }\n",
       "      attempts++;\n",
       "      if (attempts > 100) {\n",
       "        console.log(\"Bokeh: ERROR: Unable to run BokehJS code because BokehJS library is missing\");\n",
       "        clearInterval(timer);\n",
       "      }\n",
       "    }, 10, root)\n",
       "  }\n",
       "})(window);"
      ],
      "application/vnd.bokehjs_exec.v0+json": ""
     },
     "metadata": {
      "application/vnd.bokehjs_exec.v0+json": {
       "id": "1528"
      }
     },
     "output_type": "display_data"
    }
   ],
   "source": [
    "from bokeh.models import HoverTool\n",
    "\n",
    "source = ColumnDataSource(\n",
    "        data=dict(\n",
    "            x=[1, 2, 3, 4, 5],\n",
    "            y=[2, 5, 8, 2, 7],\n",
    "            desc=['A', 'b', 'C', 'd', 'E'],\n",
    "        )\n",
    "    )\n",
    "\n",
    "hover = HoverTool(\n",
    "        tooltips=[\n",
    "            (\"index\", \"$index\"),\n",
    "            (\"(x,y)\", \"($x, $y)\"),\n",
    "            (\"desc\", \"@desc\"),\n",
    "        ]\n",
    "    )\n",
    "\n",
    "p = figure(plot_width=300, plot_height=300, tools=[hover], title=\"Mouse over the dots\")\n",
    "\n",
    "p.circle('x', 'y', size=20, source=source)\n",
    "\n",
    "show(p)"
   ]
  },
  {
   "cell_type": "markdown",
   "metadata": {},
   "source": [
    "# Widgets"
   ]
  },
  {
   "cell_type": "markdown",
   "metadata": {},
   "source": [
    "Bokeh supports direct integration with a small basic widget set. Thse can be used in conjunction with a Bokeh Server, or with ``CustomJS`` models to add more interactive capability to your documents. You can see a complete list, with example code in the [Adding Widgets](http://bokeh.pydata.org/en/latest/docs/user_guide/interaction.html#adding-widgets) section of the User's Guide. \n",
    "\n",
    "\n",
    "\n",
    "*NOTE: In this Tutorial chapter, we will focus on using widgets with JavaScript callbacks. The Tutorial chapter on Bokeh server applications covers using Bokeh widgets with real Python callbacks*\n",
    "\n",
    "\n",
    "\n",
    "\n",
    "To use the widgets, include them in a layout like you would a plot object:"
   ]
  },
  {
   "cell_type": "code",
   "execution_count": 7,
   "metadata": {},
   "outputs": [
    {
     "data": {
      "text/html": [
       "\n",
       "\n",
       "\n",
       "\n",
       "\n",
       "\n",
       "  <div class=\"bk-root\" id=\"1e784fea-4051-48db-ad5b-f86e253f33be\" data-root-id=\"1648\"></div>\n"
      ]
     },
     "metadata": {},
     "output_type": "display_data"
    },
    {
     "data": {
      "application/javascript": [
       "(function(root) {\n",
       "  function embed_document(root) {\n",
       "    \n",
       "  var docs_json = {\"9bae91ad-622d-4d41-8519-b3b1504ce4d4\":{\"roots\":{\"references\":[{\"attributes\":{\"children\":[{\"id\":\"1647\",\"type\":\"Slider\"}]},\"id\":\"1648\",\"type\":\"WidgetBox\"},{\"attributes\":{\"callback\":null,\"end\":10,\"start\":0,\"step\":0.1,\"title\":\"foo\",\"value\":1},\"id\":\"1647\",\"type\":\"Slider\"}],\"root_ids\":[\"1648\"]},\"title\":\"Bokeh Application\",\"version\":\"1.1.0\"}};\n",
       "  var render_items = [{\"docid\":\"9bae91ad-622d-4d41-8519-b3b1504ce4d4\",\"roots\":{\"1648\":\"1e784fea-4051-48db-ad5b-f86e253f33be\"}}];\n",
       "  root.Bokeh.embed.embed_items_notebook(docs_json, render_items);\n",
       "\n",
       "  }\n",
       "  if (root.Bokeh !== undefined) {\n",
       "    embed_document(root);\n",
       "  } else {\n",
       "    var attempts = 0;\n",
       "    var timer = setInterval(function(root) {\n",
       "      if (root.Bokeh !== undefined) {\n",
       "        embed_document(root);\n",
       "        clearInterval(timer);\n",
       "      }\n",
       "      attempts++;\n",
       "      if (attempts > 100) {\n",
       "        console.log(\"Bokeh: ERROR: Unable to run BokehJS code because BokehJS library is missing\");\n",
       "        clearInterval(timer);\n",
       "      }\n",
       "    }, 10, root)\n",
       "  }\n",
       "})(window);"
      ],
      "application/vnd.bokehjs_exec.v0+json": ""
     },
     "metadata": {
      "application/vnd.bokehjs_exec.v0+json": {
       "id": "1648"
      }
     },
     "output_type": "display_data"
    }
   ],
   "source": [
    "from bokeh.layouts import widgetbox\n",
    "from bokeh.models.widgets import Slider\n",
    "\n",
    "\n",
    "slider = Slider(start=0, end=10, value=1, step=.1, title=\"foo\")\n",
    "\n",
    "show(widgetbox(slider))"
   ]
  },
  {
   "cell_type": "code",
   "execution_count": 8,
   "metadata": {},
   "outputs": [],
   "source": [
    "# EXERCISE: create and show a Select widget \n"
   ]
  },
  {
   "cell_type": "markdown",
   "metadata": {},
   "source": [
    "# CustomJS Callbacks\n",
    "\n",
    "In order for a widget to be useful, it needs to be able to perform some action. Using the Bokeh server, it is possible to have widgets trigger real Python code. That possibuility will be explored in the Bokeh server chapter of the turorial. Here, we look at how widgets can be configured with `CustomJS` callbacks that execute snippets of JavaScript code. "
   ]
  },
  {
   "cell_type": "code",
   "execution_count": 9,
   "metadata": {},
   "outputs": [
    {
     "data": {
      "text/html": [
       "\n",
       "\n",
       "\n",
       "\n",
       "\n",
       "\n",
       "  <div class=\"bk-root\" id=\"10e4732f-2a5c-45de-b0ab-85dab65e8a5c\" data-root-id=\"1700\"></div>\n"
      ]
     },
     "metadata": {},
     "output_type": "display_data"
    },
    {
     "data": {
      "application/javascript": [
       "(function(root) {\n",
       "  function embed_document(root) {\n",
       "    \n",
       "  var docs_json = {\"103a583c-2625-44de-9b51-5d4a98763ebc\":{\"roots\":{\"references\":[{\"attributes\":{\"below\":[{\"id\":\"1709\",\"type\":\"LinearAxis\"}],\"center\":[{\"id\":\"1713\",\"type\":\"Grid\"},{\"id\":\"1718\",\"type\":\"Grid\"}],\"left\":[{\"id\":\"1714\",\"type\":\"LinearAxis\"}],\"plot_height\":300,\"renderers\":[{\"id\":\"1724\",\"type\":\"GlyphRenderer\"}],\"title\":{\"id\":\"1775\",\"type\":\"Title\"},\"toolbar\":{\"id\":\"1719\",\"type\":\"Toolbar\"},\"x_range\":{\"id\":\"1701\",\"type\":\"DataRange1d\"},\"x_scale\":{\"id\":\"1705\",\"type\":\"LinearScale\"},\"y_range\":{\"id\":\"1703\",\"type\":\"DataRange1d\"},\"y_scale\":{\"id\":\"1707\",\"type\":\"LinearScale\"}},\"id\":\"1700\",\"subtype\":\"Figure\",\"type\":\"Plot\"},{\"attributes\":{},\"id\":\"1778\",\"type\":\"BasicTickFormatter\"},{\"attributes\":{\"callback\":null},\"id\":\"1703\",\"type\":\"DataRange1d\"},{\"attributes\":{\"callback\":{\"id\":\"1698\",\"type\":\"CustomJS\"}},\"id\":\"1699\",\"type\":\"TapTool\"},{\"attributes\":{\"formatter\":{\"id\":\"1780\",\"type\":\"BasicTickFormatter\"},\"ticker\":{\"id\":\"1710\",\"type\":\"BasicTicker\"}},\"id\":\"1709\",\"type\":\"LinearAxis\"},{\"attributes\":{\"data_source\":{\"id\":\"1721\",\"type\":\"ColumnDataSource\"},\"glyph\":{\"id\":\"1722\",\"type\":\"Circle\"},\"hover_glyph\":null,\"muted_glyph\":null,\"nonselection_glyph\":{\"id\":\"1723\",\"type\":\"Circle\"},\"selection_glyph\":null,\"view\":{\"id\":\"1725\",\"type\":\"CDSView\"}},\"id\":\"1724\",\"type\":\"GlyphRenderer\"},{\"attributes\":{\"source\":{\"id\":\"1721\",\"type\":\"ColumnDataSource\"}},\"id\":\"1725\",\"type\":\"CDSView\"},{\"attributes\":{\"fill_alpha\":{\"value\":0.1},\"fill_color\":{\"value\":\"#1f77b4\"},\"line_alpha\":{\"value\":0.1},\"line_color\":{\"value\":\"#1f77b4\"},\"size\":{\"units\":\"screen\",\"value\":20},\"x\":{\"field\":\"x\"},\"y\":{\"field\":\"y\"}},\"id\":\"1723\",\"type\":\"Circle\"},{\"attributes\":{\"dimension\":1,\"ticker\":{\"id\":\"1715\",\"type\":\"BasicTicker\"}},\"id\":\"1718\",\"type\":\"Grid\"},{\"attributes\":{\"fill_color\":{\"value\":\"#1f77b4\"},\"line_color\":{\"value\":\"#1f77b4\"},\"size\":{\"units\":\"screen\",\"value\":20},\"x\":{\"field\":\"x\"},\"y\":{\"field\":\"y\"}},\"id\":\"1722\",\"type\":\"Circle\"},{\"attributes\":{\"active_drag\":\"auto\",\"active_inspect\":\"auto\",\"active_multi\":null,\"active_scroll\":\"auto\",\"active_tap\":\"auto\",\"tools\":[{\"id\":\"1699\",\"type\":\"TapTool\"}]},\"id\":\"1719\",\"type\":\"Toolbar\"},{\"attributes\":{\"callback\":null},\"id\":\"1701\",\"type\":\"DataRange1d\"},{\"attributes\":{},\"id\":\"1715\",\"type\":\"BasicTicker\"},{\"attributes\":{\"formatter\":{\"id\":\"1778\",\"type\":\"BasicTickFormatter\"},\"ticker\":{\"id\":\"1715\",\"type\":\"BasicTicker\"}},\"id\":\"1714\",\"type\":\"LinearAxis\"},{\"attributes\":{\"ticker\":{\"id\":\"1710\",\"type\":\"BasicTicker\"}},\"id\":\"1713\",\"type\":\"Grid\"},{\"attributes\":{\"callback\":null,\"data\":{\"x\":[1,2,3,4,5],\"y\":[2,5,8,2,7]},\"selected\":{\"id\":\"1781\",\"type\":\"Selection\"},\"selection_policy\":{\"id\":\"1782\",\"type\":\"UnionRenderers\"}},\"id\":\"1721\",\"type\":\"ColumnDataSource\"},{\"attributes\":{},\"id\":\"1710\",\"type\":\"BasicTicker\"},{\"attributes\":{\"code\":\"alert('you tapped a circle!')\"},\"id\":\"1698\",\"type\":\"CustomJS\"},{\"attributes\":{},\"id\":\"1705\",\"type\":\"LinearScale\"},{\"attributes\":{\"text\":\"\"},\"id\":\"1775\",\"type\":\"Title\"},{\"attributes\":{},\"id\":\"1707\",\"type\":\"LinearScale\"},{\"attributes\":{},\"id\":\"1781\",\"type\":\"Selection\"},{\"attributes\":{},\"id\":\"1780\",\"type\":\"BasicTickFormatter\"},{\"attributes\":{},\"id\":\"1782\",\"type\":\"UnionRenderers\"}],\"root_ids\":[\"1700\"]},\"title\":\"Bokeh Application\",\"version\":\"1.1.0\"}};\n",
       "  var render_items = [{\"docid\":\"103a583c-2625-44de-9b51-5d4a98763ebc\",\"roots\":{\"1700\":\"10e4732f-2a5c-45de-b0ab-85dab65e8a5c\"}}];\n",
       "  root.Bokeh.embed.embed_items_notebook(docs_json, render_items);\n",
       "\n",
       "  }\n",
       "  if (root.Bokeh !== undefined) {\n",
       "    embed_document(root);\n",
       "  } else {\n",
       "    var attempts = 0;\n",
       "    var timer = setInterval(function(root) {\n",
       "      if (root.Bokeh !== undefined) {\n",
       "        embed_document(root);\n",
       "        clearInterval(timer);\n",
       "      }\n",
       "      attempts++;\n",
       "      if (attempts > 100) {\n",
       "        console.log(\"Bokeh: ERROR: Unable to run BokehJS code because BokehJS library is missing\");\n",
       "        clearInterval(timer);\n",
       "      }\n",
       "    }, 10, root)\n",
       "  }\n",
       "})(window);"
      ],
      "application/vnd.bokehjs_exec.v0+json": ""
     },
     "metadata": {
      "application/vnd.bokehjs_exec.v0+json": {
       "id": "1700"
      }
     },
     "output_type": "display_data"
    }
   ],
   "source": [
    "from bokeh.models import TapTool, CustomJS, ColumnDataSource\n",
    "\n",
    "callback = CustomJS(code=\"alert('you tapped a circle!')\")\n",
    "tap = TapTool(callback=callback)\n",
    "\n",
    "p = figure(plot_width=600, plot_height=300, tools=[tap])\n",
    "\n",
    "p.circle(x=[1, 2, 3, 4, 5], y=[2, 5, 8, 2, 7], size=20)\n",
    "\n",
    "show(p)"
   ]
  },
  {
   "cell_type": "markdown",
   "metadata": {},
   "source": [
    "## CustomJS for Property changes\n",
    "\n",
    "Bokeh objects that have values associated can have small JavaScript actions attached to them using the `js_on_change` method. These actions (also referred to as \"callbacks\") are executed whenever the widget's value is changed. In order to make it easier to refer to specific Bokeh models (e.g., a data source, or a glyhph) from JavaScript, the ``CustomJS`` obejct also accepts a dictionary of \"args\" that map names to Python Bokeh models. The corresponding JavaScript models are made available automaticaly to the ``CustomJS`` code:\n",
    "\n",
    "```python\n",
    "CustomJS(args=dict(source=source, slider=slider), code=\"\"\"\n",
    "    // easily refer to BokehJS source and slider objects in this JS code\n",
    "    var data = source.data;\n",
    "    var f = slider.value;\n",
    "\"\"\")\n",
    "```"
   ]
  },
  {
   "cell_type": "markdown",
   "metadata": {},
   "source": [
    "### Slider widget example\n",
    "\n",
    "The example below shows an action attached to a slider that updates a data source whenever the slider is moved.  "
   ]
  },
  {
   "cell_type": "code",
   "execution_count": 10,
   "metadata": {},
   "outputs": [
    {
     "data": {
      "text/html": [
       "\n",
       "\n",
       "\n",
       "\n",
       "\n",
       "\n",
       "  <div class=\"bk-root\" id=\"285afa44-6c14-4a64-adb4-7cc3b5f33e88\" data-root-id=\"1871\"></div>\n"
      ]
     },
     "metadata": {},
     "output_type": "display_data"
    },
    {
     "data": {
      "application/javascript": [
       "(function(root) {\n",
       "  function embed_document(root) {\n",
       "    \n",
       "  var docs_json = {\"6ee4b873-3e12-4d9e-b41d-f599806caff9\":{\"roots\":{\"references\":[{\"attributes\":{\"children\":[{\"id\":\"1869\",\"type\":\"Slider\"},{\"id\":\"1832\",\"subtype\":\"Figure\",\"type\":\"Plot\"}]},\"id\":\"1871\",\"type\":\"Column\"},{\"attributes\":{\"below\":[{\"id\":\"1841\",\"type\":\"LinearAxis\"}],\"center\":[{\"id\":\"1845\",\"type\":\"Grid\"},{\"id\":\"1850\",\"type\":\"Grid\"}],\"left\":[{\"id\":\"1846\",\"type\":\"LinearAxis\"}],\"plot_height\":400,\"plot_width\":400,\"renderers\":[{\"id\":\"1867\",\"type\":\"GlyphRenderer\"}],\"title\":{\"id\":\"1929\",\"type\":\"Title\"},\"toolbar\":{\"id\":\"1857\",\"type\":\"Toolbar\"},\"x_range\":{\"id\":\"1833\",\"type\":\"DataRange1d\"},\"x_scale\":{\"id\":\"1837\",\"type\":\"LinearScale\"},\"y_range\":{\"id\":\"1835\",\"type\":\"DataRange1d\"},\"y_scale\":{\"id\":\"1839\",\"type\":\"LinearScale\"}},\"id\":\"1832\",\"subtype\":\"Figure\",\"type\":\"Plot\"},{\"attributes\":{\"overlay\":{\"id\":\"1937\",\"type\":\"BoxAnnotation\"}},\"id\":\"1853\",\"type\":\"BoxZoomTool\"},{\"attributes\":{\"args\":{\"slider\":{\"id\":\"1869\",\"type\":\"Slider\"},\"source\":{\"id\":\"1831\",\"type\":\"ColumnDataSource\"}},\"code\":\"\\n    var data = source.data;\\n    var f = slider.value;\\n    x = data['x']\\n    y = data['y']\\n    for (i = 0; i < x.length; i++) {\\n        y[i] = Math.pow(x[i], f)\\n    }\\n    \\n    // necessary becasue we mutated source.data in-place\\n    source.change.emit();\\n\"},\"id\":\"1870\",\"type\":\"CustomJS\"},{\"attributes\":{},\"id\":\"1854\",\"type\":\"SaveTool\"},{\"attributes\":{\"callback\":null,\"data\":{\"x\":[0.0,0.005,0.01,0.015,0.02,0.025,0.03,0.035,0.04,0.045,0.05,0.055,0.06,0.065,0.07,0.075,0.08,0.085,0.09,0.095,0.1,0.105,0.11,0.115,0.12,0.125,0.13,0.135,0.14,0.145,0.15,0.155,0.16,0.165,0.17,0.17500000000000002,0.18,0.185,0.19,0.195,0.2,0.20500000000000002,0.21,0.215,0.22,0.225,0.23,0.23500000000000001,0.24,0.245,0.25,0.255,0.26,0.265,0.27,0.275,0.28,0.28500000000000003,0.29,0.295,0.3,0.305,0.31,0.315,0.32,0.325,0.33,0.335,0.34,0.34500000000000003,0.35000000000000003,0.355,0.36,0.365,0.37,0.375,0.38,0.385,0.39,0.395,0.4,0.405,0.41000000000000003,0.41500000000000004,0.42,0.425,0.43,0.435,0.44,0.445,0.45,0.455,0.46,0.465,0.47000000000000003,0.47500000000000003,0.48,0.485,0.49,0.495,0.5,0.505,0.51,0.515,0.52,0.525,0.53,0.535,0.54,0.545,0.55,0.555,0.56,0.5650000000000001,0.5700000000000001,0.5750000000000001,0.58,0.585,0.59,0.595,0.6,0.605,0.61,0.615,0.62,0.625,0.63,0.635,0.64,0.645,0.65,0.655,0.66,0.665,0.67,0.675,0.68,0.685,0.6900000000000001,0.6950000000000001,0.7000000000000001,0.705,0.71,0.715,0.72,0.725,0.73,0.735,0.74,0.745,0.75,0.755,0.76,0.765,0.77,0.775,0.78,0.785,0.79,0.795,0.8,0.805,0.81,0.8150000000000001,0.8200000000000001,0.8250000000000001,0.8300000000000001,0.835,0.84,0.845,0.85,0.855,0.86,0.865,0.87,0.875,0.88,0.885,0.89,0.895,0.9,0.905,0.91,0.915,0.92,0.925,0.93,0.935,0.9400000000000001,0.9450000000000001,0.9500000000000001,0.9550000000000001,0.96,0.965,0.97,0.975,0.98,0.985,0.99,0.995,1.0],\"y\":[0.0,0.005,0.01,0.015,0.02,0.025,0.03,0.035,0.04,0.045,0.05,0.055,0.06,0.065,0.07,0.075,0.08,0.085,0.09,0.095,0.1,0.105,0.11,0.115,0.12,0.125,0.13,0.135,0.14,0.145,0.15,0.155,0.16,0.165,0.17,0.17500000000000002,0.18,0.185,0.19,0.195,0.2,0.20500000000000002,0.21,0.215,0.22,0.225,0.23,0.23500000000000001,0.24,0.245,0.25,0.255,0.26,0.265,0.27,0.275,0.28,0.28500000000000003,0.29,0.295,0.3,0.305,0.31,0.315,0.32,0.325,0.33,0.335,0.34,0.34500000000000003,0.35000000000000003,0.355,0.36,0.365,0.37,0.375,0.38,0.385,0.39,0.395,0.4,0.405,0.41000000000000003,0.41500000000000004,0.42,0.425,0.43,0.435,0.44,0.445,0.45,0.455,0.46,0.465,0.47000000000000003,0.47500000000000003,0.48,0.485,0.49,0.495,0.5,0.505,0.51,0.515,0.52,0.525,0.53,0.535,0.54,0.545,0.55,0.555,0.56,0.5650000000000001,0.5700000000000001,0.5750000000000001,0.58,0.585,0.59,0.595,0.6,0.605,0.61,0.615,0.62,0.625,0.63,0.635,0.64,0.645,0.65,0.655,0.66,0.665,0.67,0.675,0.68,0.685,0.6900000000000001,0.6950000000000001,0.7000000000000001,0.705,0.71,0.715,0.72,0.725,0.73,0.735,0.74,0.745,0.75,0.755,0.76,0.765,0.77,0.775,0.78,0.785,0.79,0.795,0.8,0.805,0.81,0.8150000000000001,0.8200000000000001,0.8250000000000001,0.8300000000000001,0.835,0.84,0.845,0.85,0.855,0.86,0.865,0.87,0.875,0.88,0.885,0.89,0.895,0.9,0.905,0.91,0.915,0.92,0.925,0.93,0.935,0.9400000000000001,0.9450000000000001,0.9500000000000001,0.9550000000000001,0.96,0.965,0.97,0.975,0.98,0.985,0.99,0.995,1.0]},\"selected\":{\"id\":\"1935\",\"type\":\"Selection\"},\"selection_policy\":{\"id\":\"1936\",\"type\":\"UnionRenderers\"}},\"id\":\"1831\",\"type\":\"ColumnDataSource\"},{\"attributes\":{},\"id\":\"1855\",\"type\":\"ResetTool\"},{\"attributes\":{},\"id\":\"1932\",\"type\":\"BasicTickFormatter\"},{\"attributes\":{},\"id\":\"1856\",\"type\":\"HelpTool\"},{\"attributes\":{\"callback\":null},\"id\":\"1833\",\"type\":\"DataRange1d\"},{\"attributes\":{\"callback\":null},\"id\":\"1835\",\"type\":\"DataRange1d\"},{\"attributes\":{\"active_drag\":\"auto\",\"active_inspect\":\"auto\",\"active_multi\":null,\"active_scroll\":\"auto\",\"active_tap\":\"auto\",\"tools\":[{\"id\":\"1851\",\"type\":\"PanTool\"},{\"id\":\"1852\",\"type\":\"WheelZoomTool\"},{\"id\":\"1853\",\"type\":\"BoxZoomTool\"},{\"id\":\"1854\",\"type\":\"SaveTool\"},{\"id\":\"1855\",\"type\":\"ResetTool\"},{\"id\":\"1856\",\"type\":\"HelpTool\"}]},\"id\":\"1857\",\"type\":\"Toolbar\"},{\"attributes\":{\"source\":{\"id\":\"1831\",\"type\":\"ColumnDataSource\"}},\"id\":\"1868\",\"type\":\"CDSView\"},{\"attributes\":{},\"id\":\"1837\",\"type\":\"LinearScale\"},{\"attributes\":{},\"id\":\"1839\",\"type\":\"LinearScale\"},{\"attributes\":{\"text\":\"\"},\"id\":\"1929\",\"type\":\"Title\"},{\"attributes\":{\"formatter\":{\"id\":\"1934\",\"type\":\"BasicTickFormatter\"},\"ticker\":{\"id\":\"1842\",\"type\":\"BasicTicker\"}},\"id\":\"1841\",\"type\":\"LinearAxis\"},{\"attributes\":{},\"id\":\"1842\",\"type\":\"BasicTicker\"},{\"attributes\":{\"ticker\":{\"id\":\"1842\",\"type\":\"BasicTicker\"}},\"id\":\"1845\",\"type\":\"Grid\"},{\"attributes\":{\"formatter\":{\"id\":\"1932\",\"type\":\"BasicTickFormatter\"},\"ticker\":{\"id\":\"1847\",\"type\":\"BasicTicker\"}},\"id\":\"1846\",\"type\":\"LinearAxis\"},{\"attributes\":{},\"id\":\"1847\",\"type\":\"BasicTicker\"},{\"attributes\":{},\"id\":\"1934\",\"type\":\"BasicTickFormatter\"},{\"attributes\":{\"dimension\":1,\"ticker\":{\"id\":\"1847\",\"type\":\"BasicTicker\"}},\"id\":\"1850\",\"type\":\"Grid\"},{\"attributes\":{},\"id\":\"1935\",\"type\":\"Selection\"},{\"attributes\":{\"line_alpha\":0.1,\"line_color\":\"#1f77b4\",\"line_width\":3,\"x\":{\"field\":\"x\"},\"y\":{\"field\":\"y\"}},\"id\":\"1866\",\"type\":\"Line\"},{\"attributes\":{},\"id\":\"1936\",\"type\":\"UnionRenderers\"},{\"attributes\":{\"line_alpha\":0.6,\"line_color\":\"#1f77b4\",\"line_width\":3,\"x\":{\"field\":\"x\"},\"y\":{\"field\":\"y\"}},\"id\":\"1865\",\"type\":\"Line\"},{\"attributes\":{\"bottom_units\":\"screen\",\"fill_alpha\":{\"value\":0.5},\"fill_color\":{\"value\":\"lightgrey\"},\"left_units\":\"screen\",\"level\":\"overlay\",\"line_alpha\":{\"value\":1.0},\"line_color\":{\"value\":\"black\"},\"line_dash\":[4,4],\"line_width\":{\"value\":2},\"render_mode\":\"css\",\"right_units\":\"screen\",\"top_units\":\"screen\"},\"id\":\"1937\",\"type\":\"BoxAnnotation\"},{\"attributes\":{\"callback\":null,\"end\":6,\"js_property_callbacks\":{\"change:value\":[{\"id\":\"1870\",\"type\":\"CustomJS\"}]},\"start\":0.1,\"step\":0.1,\"title\":\"power\",\"value\":1},\"id\":\"1869\",\"type\":\"Slider\"},{\"attributes\":{\"data_source\":{\"id\":\"1831\",\"type\":\"ColumnDataSource\"},\"glyph\":{\"id\":\"1865\",\"type\":\"Line\"},\"hover_glyph\":null,\"muted_glyph\":null,\"nonselection_glyph\":{\"id\":\"1866\",\"type\":\"Line\"},\"selection_glyph\":null,\"view\":{\"id\":\"1868\",\"type\":\"CDSView\"}},\"id\":\"1867\",\"type\":\"GlyphRenderer\"},{\"attributes\":{},\"id\":\"1851\",\"type\":\"PanTool\"},{\"attributes\":{},\"id\":\"1852\",\"type\":\"WheelZoomTool\"}],\"root_ids\":[\"1871\"]},\"title\":\"Bokeh Application\",\"version\":\"1.1.0\"}};\n",
       "  var render_items = [{\"docid\":\"6ee4b873-3e12-4d9e-b41d-f599806caff9\",\"roots\":{\"1871\":\"285afa44-6c14-4a64-adb4-7cc3b5f33e88\"}}];\n",
       "  root.Bokeh.embed.embed_items_notebook(docs_json, render_items);\n",
       "\n",
       "  }\n",
       "  if (root.Bokeh !== undefined) {\n",
       "    embed_document(root);\n",
       "  } else {\n",
       "    var attempts = 0;\n",
       "    var timer = setInterval(function(root) {\n",
       "      if (root.Bokeh !== undefined) {\n",
       "        embed_document(root);\n",
       "        clearInterval(timer);\n",
       "      }\n",
       "      attempts++;\n",
       "      if (attempts > 100) {\n",
       "        console.log(\"Bokeh: ERROR: Unable to run BokehJS code because BokehJS library is missing\");\n",
       "        clearInterval(timer);\n",
       "      }\n",
       "    }, 10, root)\n",
       "  }\n",
       "})(window);"
      ],
      "application/vnd.bokehjs_exec.v0+json": ""
     },
     "metadata": {
      "application/vnd.bokehjs_exec.v0+json": {
       "id": "1871"
      }
     },
     "output_type": "display_data"
    }
   ],
   "source": [
    "from bokeh.layouts import column\n",
    "from bokeh.models import CustomJS, ColumnDataSource, Slider\n",
    "\n",
    "x = [x*0.005 for x in range(0, 201)]\n",
    "\n",
    "source = ColumnDataSource(data=dict(x=x, y=x))\n",
    "\n",
    "plot = figure(plot_width=400, plot_height=400)\n",
    "plot.line('x', 'y', source=source, line_width=3, line_alpha=0.6)\n",
    "\n",
    "slider = Slider(start=0.1, end=6, value=1, step=.1, title=\"power\")\n",
    "\n",
    "update_curve = CustomJS(args=dict(source=source, slider=slider), code=\"\"\"\n",
    "    var data = source.data;\n",
    "    var f = slider.value;\n",
    "    x = data['x']\n",
    "    y = data['y']\n",
    "    for (i = 0; i < x.length; i++) {\n",
    "        y[i] = Math.pow(x[i], f)\n",
    "    }\n",
    "    \n",
    "    // necessary becasue we mutated source.data in-place\n",
    "    source.change.emit();\n",
    "\"\"\")\n",
    "slider.js_on_change('value', update_curve)\n",
    "\n",
    "\n",
    "show(column(slider, plot))"
   ]
  },
  {
   "cell_type": "code",
   "execution_count": 11,
   "metadata": {},
   "outputs": [],
   "source": [
    "# Exercise: Create a plot that updates based on a Select widget\n",
    "\n"
   ]
  },
  {
   "cell_type": "markdown",
   "metadata": {},
   "source": [
    "### Data selection example\n",
    "\n",
    "It's also possible to make JavaScript actions that execute whenever a user selection (e.g., box, point, lasso) changes. This is done by attaching the same kind of CustomJS object to whatever data source the selection is made on.\n",
    "\n",
    "The example below is a bit more sophisticated, and demonstrates updating one glyph's data source in response to another glyph's selection: "
   ]
  },
  {
   "cell_type": "code",
   "execution_count": 12,
   "metadata": {},
   "outputs": [
    {
     "data": {
      "text/html": [
       "\n",
       "\n",
       "\n",
       "\n",
       "\n",
       "\n",
       "  <div class=\"bk-root\" id=\"5cbd4a37-caf1-4357-a1a3-41b256678494\" data-root-id=\"1993\"></div>\n"
      ]
     },
     "metadata": {},
     "output_type": "display_data"
    },
    {
     "data": {
      "application/javascript": [
       "(function(root) {\n",
       "  function embed_document(root) {\n",
       "    \n",
       "  var docs_json = {\"35f53372-5b20-4c38-8e58-a7da55038773\":{\"roots\":{\"references\":[{\"attributes\":{\"below\":[{\"id\":\"2004\",\"type\":\"LinearAxis\"}],\"center\":[{\"id\":\"2008\",\"type\":\"Grid\"},{\"id\":\"2013\",\"type\":\"Grid\"}],\"left\":[{\"id\":\"2009\",\"type\":\"LinearAxis\"}],\"plot_height\":400,\"plot_width\":400,\"renderers\":[{\"id\":\"2021\",\"type\":\"GlyphRenderer\"},{\"id\":\"2027\",\"type\":\"GlyphRenderer\"}],\"title\":{\"id\":\"1994\",\"type\":\"Title\"},\"toolbar\":{\"id\":\"2015\",\"type\":\"Toolbar\"},\"x_range\":{\"id\":\"1996\",\"type\":\"DataRange1d\"},\"x_scale\":{\"id\":\"2000\",\"type\":\"LinearScale\"},\"y_range\":{\"id\":\"1998\",\"type\":\"DataRange1d\"},\"y_scale\":{\"id\":\"2002\",\"type\":\"LinearScale\"}},\"id\":\"1993\",\"subtype\":\"Figure\",\"type\":\"Plot\"},{\"attributes\":{\"callback\":null,\"data\":{\"xm\":[0,1],\"ym\":[0.5,0.5]},\"selected\":{\"id\":\"2104\",\"type\":\"Selection\"},\"selection_policy\":{\"id\":\"2105\",\"type\":\"UnionRenderers\"}},\"id\":\"2023\",\"type\":\"ColumnDataSource\"},{\"attributes\":{\"fill_alpha\":{\"value\":0.4},\"fill_color\":{\"value\":\"firebrick\"},\"line_alpha\":{\"value\":0.4},\"line_color\":{\"value\":\"firebrick\"},\"size\":{\"units\":\"screen\",\"value\":8},\"x\":{\"field\":\"x\"},\"y\":{\"field\":\"y\"}},\"id\":\"2020\",\"type\":\"Circle\"},{\"attributes\":{\"text\":\"Select Here\"},\"id\":\"1994\",\"type\":\"Title\"},{\"attributes\":{\"data_source\":{\"id\":\"2023\",\"type\":\"ColumnDataSource\"},\"glyph\":{\"id\":\"2025\",\"type\":\"Line\"},\"hover_glyph\":null,\"muted_glyph\":null,\"nonselection_glyph\":{\"id\":\"2026\",\"type\":\"Line\"},\"selection_glyph\":null,\"view\":{\"id\":\"2028\",\"type\":\"CDSView\"}},\"id\":\"2027\",\"type\":\"GlyphRenderer\"},{\"attributes\":{\"data_source\":{\"id\":\"1992\",\"type\":\"ColumnDataSource\"},\"glyph\":{\"id\":\"2018\",\"type\":\"Circle\"},\"hover_glyph\":null,\"muted_glyph\":null,\"nonselection_glyph\":{\"id\":\"2019\",\"type\":\"Circle\"},\"selection_glyph\":{\"id\":\"2020\",\"type\":\"Circle\"},\"view\":{\"id\":\"2022\",\"type\":\"CDSView\"}},\"id\":\"2021\",\"type\":\"GlyphRenderer\"},{\"attributes\":{\"source\":{\"id\":\"1992\",\"type\":\"ColumnDataSource\"}},\"id\":\"2022\",\"type\":\"CDSView\"},{\"attributes\":{\"callback\":null},\"id\":\"1996\",\"type\":\"DataRange1d\"},{\"attributes\":{\"callback\":{\"id\":\"2029\",\"type\":\"CustomJS\"},\"data\":{\"color\":[\"navy\",\"navy\",\"navy\",\"navy\",\"navy\",\"navy\",\"navy\",\"navy\",\"navy\",\"navy\",\"navy\",\"navy\",\"navy\",\"navy\",\"navy\",\"navy\",\"navy\",\"navy\",\"navy\",\"navy\",\"navy\",\"navy\",\"navy\",\"navy\",\"navy\",\"navy\",\"navy\",\"navy\",\"navy\",\"navy\",\"navy\",\"navy\",\"navy\",\"navy\",\"navy\",\"navy\",\"navy\",\"navy\",\"navy\",\"navy\",\"navy\",\"navy\",\"navy\",\"navy\",\"navy\",\"navy\",\"navy\",\"navy\",\"navy\",\"navy\",\"navy\",\"navy\",\"navy\",\"navy\",\"navy\",\"navy\",\"navy\",\"navy\",\"navy\",\"navy\",\"navy\",\"navy\",\"navy\",\"navy\",\"navy\",\"navy\",\"navy\",\"navy\",\"navy\",\"navy\",\"navy\",\"navy\",\"navy\",\"navy\",\"navy\",\"navy\",\"navy\",\"navy\",\"navy\",\"navy\",\"navy\",\"navy\",\"navy\",\"navy\",\"navy\",\"navy\",\"navy\",\"navy\",\"navy\",\"navy\",\"navy\",\"navy\",\"navy\",\"navy\",\"navy\",\"navy\",\"navy\",\"navy\",\"navy\",\"navy\",\"navy\",\"navy\",\"navy\",\"navy\",\"navy\",\"navy\",\"navy\",\"navy\",\"navy\",\"navy\",\"navy\",\"navy\",\"navy\",\"navy\",\"navy\",\"navy\",\"navy\",\"navy\",\"navy\",\"navy\",\"navy\",\"navy\",\"navy\",\"navy\",\"navy\",\"navy\",\"navy\",\"navy\",\"navy\",\"navy\",\"navy\",\"navy\",\"navy\",\"navy\",\"navy\",\"navy\",\"navy\",\"navy\",\"navy\",\"navy\",\"navy\",\"navy\",\"navy\",\"navy\",\"navy\",\"navy\",\"navy\",\"navy\",\"navy\",\"navy\",\"navy\",\"navy\",\"navy\",\"navy\",\"navy\",\"navy\",\"navy\",\"navy\",\"navy\",\"navy\",\"navy\",\"navy\",\"navy\",\"navy\",\"navy\",\"navy\",\"navy\",\"navy\",\"navy\",\"navy\",\"navy\",\"navy\",\"navy\",\"navy\",\"navy\",\"navy\",\"navy\",\"navy\",\"navy\",\"navy\",\"navy\",\"navy\",\"navy\",\"navy\",\"navy\",\"navy\",\"navy\",\"navy\",\"navy\",\"navy\",\"navy\",\"navy\",\"navy\",\"navy\",\"navy\",\"navy\",\"navy\",\"navy\",\"navy\",\"navy\",\"navy\",\"navy\",\"navy\",\"navy\",\"navy\",\"navy\",\"navy\",\"navy\",\"navy\",\"navy\",\"navy\",\"navy\",\"navy\",\"navy\",\"navy\",\"navy\",\"navy\",\"navy\",\"navy\",\"navy\",\"navy\",\"navy\",\"navy\",\"navy\",\"navy\",\"navy\",\"navy\",\"navy\",\"navy\",\"navy\",\"navy\",\"navy\",\"navy\",\"navy\",\"navy\",\"navy\",\"navy\",\"navy\",\"navy\",\"navy\",\"navy\",\"navy\",\"navy\",\"navy\",\"navy\",\"navy\",\"navy\",\"navy\",\"navy\",\"navy\",\"navy\",\"navy\",\"navy\",\"navy\",\"navy\",\"navy\",\"navy\",\"navy\",\"navy\",\"navy\",\"navy\",\"navy\",\"navy\",\"navy\",\"navy\",\"navy\",\"navy\",\"navy\",\"navy\",\"navy\",\"navy\",\"navy\",\"navy\",\"navy\",\"navy\",\"navy\",\"navy\",\"navy\",\"navy\",\"navy\",\"navy\",\"navy\",\"navy\",\"navy\",\"navy\",\"navy\",\"navy\",\"navy\",\"navy\",\"navy\",\"navy\",\"navy\",\"navy\",\"navy\",\"navy\",\"navy\",\"navy\",\"navy\",\"navy\",\"navy\",\"navy\",\"navy\",\"navy\",\"navy\",\"navy\",\"navy\",\"navy\",\"navy\",\"navy\",\"navy\",\"navy\",\"navy\",\"navy\",\"navy\",\"navy\",\"navy\",\"navy\",\"navy\",\"navy\",\"navy\",\"navy\",\"navy\",\"navy\",\"navy\",\"navy\",\"navy\",\"navy\",\"navy\",\"navy\",\"navy\",\"navy\",\"navy\",\"navy\",\"navy\",\"navy\",\"navy\",\"navy\",\"navy\",\"navy\",\"navy\",\"navy\",\"navy\",\"navy\",\"navy\",\"navy\",\"navy\",\"navy\",\"navy\",\"navy\",\"navy\",\"navy\",\"navy\",\"navy\",\"navy\",\"navy\",\"navy\",\"navy\",\"navy\",\"navy\",\"navy\",\"navy\",\"navy\",\"navy\",\"navy\",\"navy\",\"navy\",\"navy\",\"navy\",\"navy\",\"navy\",\"navy\",\"navy\",\"navy\",\"navy\",\"navy\",\"navy\",\"navy\",\"navy\",\"navy\",\"navy\",\"navy\",\"navy\",\"navy\",\"navy\",\"navy\",\"navy\",\"navy\",\"navy\",\"navy\",\"navy\",\"navy\",\"navy\",\"navy\",\"navy\",\"navy\",\"navy\",\"navy\",\"navy\",\"navy\",\"navy\",\"navy\",\"navy\",\"navy\",\"navy\",\"navy\",\"navy\",\"navy\",\"navy\",\"navy\",\"navy\",\"navy\",\"navy\",\"navy\",\"navy\",\"navy\",\"navy\",\"navy\",\"navy\",\"navy\",\"navy\",\"navy\",\"navy\",\"navy\",\"navy\",\"navy\",\"navy\",\"navy\",\"navy\",\"navy\",\"navy\",\"navy\",\"navy\",\"navy\",\"navy\",\"navy\",\"navy\",\"navy\",\"navy\",\"navy\",\"navy\",\"navy\",\"navy\",\"navy\",\"navy\",\"navy\",\"navy\",\"navy\",\"navy\",\"navy\",\"navy\",\"navy\",\"navy\",\"navy\",\"navy\",\"navy\",\"navy\",\"navy\",\"navy\",\"navy\",\"navy\",\"navy\",\"navy\",\"navy\",\"navy\",\"navy\",\"navy\",\"navy\",\"navy\",\"navy\",\"navy\",\"navy\",\"navy\",\"navy\",\"navy\",\"navy\",\"navy\",\"navy\",\"navy\",\"navy\",\"navy\",\"navy\",\"navy\",\"navy\",\"navy\",\"navy\",\"navy\",\"navy\",\"navy\",\"navy\",\"navy\",\"navy\",\"navy\",\"navy\",\"navy\",\"navy\",\"navy\",\"navy\",\"navy\",\"navy\",\"navy\"],\"x\":[0.5911692157650135,0.7187767403940173,0.9283020685754216,0.20326651084811143,0.8423261315879348,0.024001650147234543,0.12275319894138548,0.9580060693617611,0.46470481705729516,0.043441173357575136,0.7489369282710857,0.11212655821977702,0.02571980337662394,0.436723624240535,0.19232859279340075,0.24435726691392534,0.6429924459934422,0.30501172818043476,0.8779919001973792,0.7839057960540525,0.8468957817865992,0.6344879264851775,0.9130698724358497,0.7954418198768739,0.6678574947141404,0.8977614340195431,0.023762674330212508,0.007214914127847583,0.9298895245595856,0.1076355180047689,0.8624731723433657,0.4473782900449552,0.7136443372569443,0.5989676422791212,0.12555638062638808,0.5706409433160261,0.21753894529523932,0.6126508590945796,0.30610449634720793,0.8702726334844462,0.044510086612271516,0.7330071863602352,0.11857601594634859,0.8434781796886415,0.7169356723876784,0.3331943237886217,0.9964559704945875,0.6045620209761442,0.9954283516449648,0.999359790880662,0.12877658630373245,0.7356949126159973,0.008381103334385687,0.00112651772767014,0.5278653713994451,0.9896944706654494,0.29665696592680757,0.2655402598849733,0.04017489498208937,0.6524735566167049,0.518743761604879,0.8220974920679872,0.0826407772460126,0.1394688548727968,0.23165170253240608,0.4786890108478016,0.6474058577032458,0.5723120034117024,0.07637631771727527,0.15424201360114687,0.29104421923941015,0.44164642106489016,0.09212885524341174,0.5654962069208586,0.41728940670700954,0.6630515085716648,0.01213985618474811,0.4204359619211674,0.7259509216593736,0.11167768164895286,0.536297019899011,0.25981860693708747,0.813379980090738,0.8737951384797958,0.7442855806431034,0.0701642041106425,0.8105496212217034,0.5197912345460873,0.5185437466748762,0.0046184323700062535,0.9681336766893228,0.6556003670838331,0.9971977059617514,0.33765804480044437,0.7024773175423055,0.1519660077051811,0.16502412872868366,0.11426630525951809,0.8074094461631702,0.7283849471748517,0.6625272530972133,0.7782389840907347,0.30843002609959413,0.6011160742256132,0.9120383988873489,0.5851605060108384,0.5771631968054318,0.12081428244450632,0.18036746279782156,0.9908694483825022,0.3790345618830102,0.8480891187960147,0.38169509450115113,0.5941450533865293,0.24949053501204688,0.25115531696082116,0.45016969321227707,0.8361190217812208,0.7405644246806816,0.11514768138325204,0.8135332225265162,0.5451732043973049,0.4785496401672451,0.5797231172266513,0.18539480446760004,0.41176800975706374,0.6959713680789392,0.4319587260391877,0.5582702111650243,0.6126204635996338,0.013947771844017964,0.9895163364560704,0.7528069584348771,0.7771692308012684,0.1090675320099943,0.3342682193107034,0.3350801971701348,0.9386701868272153,0.3963208781458607,0.43040514793079454,0.40420775652928087,0.042116848321737455,0.9149177826232648,0.4612596881916605,0.21371874684831527,0.8271583895118537,0.8839708494674038,0.5840953419820152,0.014176388046246768,0.7786839695859924,0.43610660757929975,0.9438331592528425,0.6425915990638689,0.16700562532701257,0.9981578454406654,0.2582308350756868,0.07734532454470777,0.6714696282244682,0.5652335826326235,0.031209785301232862,0.502469987445437,0.31703700213478825,0.29643404014031416,0.9717008424745993,0.9356547988844325,0.8028775071674865,0.5005903247078631,0.9922041082729551,0.6522526026866325,0.5624453706230066,0.069848400018383,0.3126452044669027,0.8309324697204898,0.9406407050396067,0.20176972694172757,0.9442558952988704,0.4448649714928987,0.755732726634858,0.20966164340933546,0.4891643314706414,0.2933065412208117,0.2771249213066359,0.775805441770372,0.5767181393458972,0.21233938924913276,0.5356853868352601,0.9863493476216297,0.8148245700029746,0.3443336383685037,0.6146501554500937,0.46261783766807585,0.8657375881445643,0.37348445010466724,0.30279707876300377,0.47945716040833564,0.5551038123274453,0.40136722227937005,0.3291596199411695,0.10807441613375024,0.29781042984204076,0.24182687139595593,0.8109545402305629,0.025187178363301976,0.5707240457073288,0.2729523503161482,0.8235728390852995,0.883420364765215,0.5681381666461809,0.5170439791920334,0.8191753906967099,0.19907807238209974,0.494705576805175,0.5336550530595547,0.5443884358784717,0.14831757970111004,0.1677667456761084,0.41842015545381894,0.6014863043314156,0.2816969022939553,0.4022486351496811,0.9925002965204632,0.9171699423243443,0.31861676851990217,0.5016641031987433,0.961007380372121,0.6389152525699544,0.7044328512584841,0.8368135948016215,0.04158746318787865,0.6738216133403891,0.7834366136868237,0.14407390202163983,0.8029021954535535,0.5387553947366406,0.25084660718025675,0.6897508564010756,0.9308355193749506,0.23297948107727773,0.4395543577373837,0.09409827712112351,0.07905359361872777,0.9848355119458772,0.4843567588969554,0.8775494640067398,0.07039156810990954,0.12830717203409525,0.32672673918190476,0.04146053819779916,0.37155020688271745,0.7342797927571681,0.3866912592303886,0.8157936333307965,0.9332357985339246,0.7029661868836757,0.29329039227843046,0.6331814832064706,0.05660251417200313,0.4797015424693458,0.8808366758805304,0.5868877856949815,0.04862100958812776,0.5452168801260906,0.09025572416223426,0.7805497096787029,0.2672577662793615,0.7461622105281396,0.62605066812539,0.9607675391691372,0.5649244370663423,0.4883561545749998,0.553639107682535,0.47873591463292564,0.9125978503963942,0.46506377688265166,0.5062066171068924,0.8208505978149168,0.7057998977791807,0.5960437329376848,0.6038359413340811,0.6895219109889372,0.18114257986791127,0.9642353431212327,0.12726100970595933,0.6595170961255044,0.13089409522525774,0.34856253374533963,0.24066030804134697,0.8038580495479452,0.7292336109638987,0.3715467534515082,0.7117495853321164,0.13353829143853535,0.3875786756219053,0.4683062629971233,0.8979246280108666,0.33549738083682534,0.8912977496576205,0.8158182638911586,0.9598279419072331,0.6622876872679304,0.9110396767672541,0.14817802493639143,0.7750650408333173,0.08231145002394868,0.8624937906654617,0.44650978784293127,0.3800240708077036,0.3925410032065091,0.8744898361777705,0.947824448096348,0.6243533429835774,0.5545059486392467,0.6406921923035528,0.8666672899164959,0.2214449800185031,0.17125489204023225,0.20269006755281838,0.18526058704365744,0.39574626059207363,0.589232774372862,0.7862320007640532,0.26964437640086825,0.16292314768323513,0.934950303950746,0.4947274286278095,0.19641524960758316,0.85291729311606,0.8134575564742449,0.6760473400543614,0.5179626273124105,0.4863710838422741,0.07199226971684003,0.11674532894958622,0.750073422754991,0.354169050020555,0.5720335772898725,0.7930727291578883,0.1897206798183756,0.30556553094508854,0.6313798083775635,0.5368345450217038,0.6202272509295085,0.046092146165945924,0.6742314050418277,0.613332965784072,0.3784477474682588,0.608317115756991,0.5674978470231974,0.8828716516508145,0.8071968412398789,0.11406665692024143,0.435138150491023,0.6677447538999579,0.6086011123496302,0.1458291395441863,0.2824066338429432,0.05585602182772942,0.23261038632349218,0.48777801660713627,0.284965842277754,0.24467920293024537,0.387862588952413,0.14111401091146913,0.3316835916691402,0.5829070613820516,0.1945009585341193,0.092900265184642,0.4566256211646047,0.9472872679558758,0.7582484449154585,0.48836419831637334,0.6273020655531796,0.06910072482643881,0.8139428984320722,0.44803831594287535,0.5200774395074421,0.8029447968816027,0.13087027198687207,0.6503069488671717,0.6676575907356208,0.888460510528808,0.4417830425722664,0.755214949498994,0.044006108350838624,0.19539203134554206,0.2238496118303247,0.8554381325446263,0.26258508502873223,0.9258775555213947,0.49715101492372793,0.8014473135064853,0.21363062795633492,0.8103592132834788,0.689951570336343,0.16802511118617702,0.6527537915761026,0.6037493920884047,0.7417825738808768,0.7645641248466399,0.8626006410201932,0.17067754258166,0.536828466632057,0.6673896989447673,0.369941200405141,0.23142921159024143,0.2593510854172836,0.17924810677594083,0.35068938160062013,0.9026451031209103,0.9829022993481401,0.3512572334989571,0.7085907804964596,0.9495741424737156,0.5556258324117364,0.3725563124534581,0.6389323894646347,0.3106939265464418,0.1846434383127784,0.7624354435309457,0.6721473431386906,0.6723010157705673,0.5975012301314929,0.08048261143740665,0.8027892850916919,0.7466968440828322,0.7218337543990123,0.1378191391866853,0.38541935166078034,0.6110356957073668,0.020407428421970075,0.9962667694479465,0.41376228041072416,0.3385419879013126,0.9071332794274437,0.859811497677122,0.24337123350666712,0.5380738352956604,0.6763197074531695,0.35961382645409357,0.40425912952438525,0.7272900951737127,0.1552049207052293,0.8031406586605306,0.2437381197463424,0.8055422165795316,0.2764309084133949,0.5689816197044383,0.6477797573258337,0.3884517982873448,0.790117161059681,0.16304851847774116,0.9512199332849551,0.38426688870545844,0.9819455683703392,0.2385148705265563,0.5059000459182877,0.6923942317023306,0.12947885317467211,0.359151029488573,0.11538457094931931,0.0067718857802197,0.6638827344429709,0.2420544394266153,0.6946182789126267,0.5570515696697431,0.6342030461953697,0.5947049257850759,0.21458554538527108,0.41885006894819055,0.5627455971830784,0.0027158191894628425,0.10833356282220441,0.5350555911060108,0.4832769663717733,0.4882938450864155,0.227449569457575,0.26262632488040705,0.5067665067627952,0.05051402845324027,0.4478724247588728,0.32172872212443593,0.9160499242245571,0.6728801304911395,0.5138907178139335,0.7947032833416297,0.7533383562343001,0.24792624335222424,0.19330034082852943,0.10359020799344876,0.5711850651187627,0.7370022746401289,0.6739138137006458,0.8383648231828055,0.16486539418866608,0.9351529042586988,0.03373157370104307,0.30579297362065316,0.9543665589885628,0.856306280480829,0.31753529970891115],\"y\":[0.2168621306955656,0.9647746114654456,0.01074832290377603,0.15968282691618652,0.813890025166113,0.10968447010936189,0.8525422324792922,0.7972260458235708,0.3038699780972446,0.4530235573299203,0.3277721286680322,0.811281321756996,0.03509953191929105,0.08877722112462716,0.6921322538564545,0.1877039365971821,0.05718690075709876,0.19249919469201826,0.9356740921725887,0.9030533350616978,0.34673788873925326,0.4807808579450158,0.5413288121414259,0.5485163903319711,0.47628505921390096,0.7071300359857615,0.23544305068153604,0.34019683601281014,0.4469973486794735,0.33959892745537335,0.8401841210413389,0.7931682609325625,0.7451067112617623,0.2971062877399251,0.6461917876812275,0.1629474766527521,0.7064700068298463,0.7428689809283996,0.41252190244108333,0.19638532260670172,0.15807947644051834,0.4754843299282183,0.25924294798848413,0.12508613867352725,0.07869179287947992,0.562221526026325,0.1556587341266037,0.13185766058864212,0.4713407840774244,0.7400705351843421,0.3503414292379814,0.6132589725886214,0.8276598285518716,0.3243722163152477,0.3895135725867894,0.9853232524635803,0.13918992740918856,0.4202920121405943,0.8031219013858306,0.04247353310818591,0.2880603020773619,0.5031760984860925,0.4270552123482053,0.8108219306589397,0.8415132622050581,0.13831636917086354,0.5511261472314661,0.11641356573920258,0.4791588896831308,0.21552802469777044,0.07171115578270049,0.8387985998800144,0.901532551040423,0.07731597931167122,0.3287624097781374,0.6898715626039331,0.13923074171337824,0.8942363189452395,0.8630193260582993,0.8789499537455527,0.7175457465632442,0.9856714362041243,0.45455736939064817,0.26933759341031127,0.8015028616145511,0.8478109639300562,0.9020775024545444,0.5930287127710551,0.5916463927463628,0.11910063425500894,0.6370699939436504,0.8774049498653682,0.6754126025640149,0.1811691979564286,0.08626446328239123,0.2658812891068265,0.4266955583570793,0.5731304522100308,0.06668374983572456,0.512262849185722,0.9802207401070896,0.8415784734423852,0.12019928218306064,0.24982576906115173,0.4296707227024531,0.3928524693235188,0.8053832459344569,0.45771920798216403,0.5532570836020712,0.09143959228499887,0.836520432265024,0.8663069244665491,0.8161872752311624,0.08387331642925133,0.5261511494346925,0.10125054310709225,0.6674381078107192,0.45244264908366794,0.4076332040935222,0.9159296846800276,0.5977174958180911,0.1468981726519415,0.9989151378118877,0.8918639617079428,0.06503540292495569,0.9704769058089409,0.6296987545345459,0.28702095069282985,0.4099088264024099,0.6406424455902306,0.9219316804673934,0.6258536457337333,0.40099668850618486,0.7299082052697426,0.947749487455649,0.06531756731533755,0.41377418379830344,0.16199735729514386,0.8691859739739478,0.46440721595147716,0.6019317891973395,0.025205551359555378,0.6631397203827072,0.9160973888594114,0.3558992281914579,0.8768318574250048,0.20035873340459687,0.2039176446484482,0.30686351332325634,0.41027852346443416,0.27466706735845114,0.6988035031935796,0.8497705164397334,0.4202317322461522,0.48551572189246006,0.3085890634879286,0.9785642200415554,0.49558890393453203,0.8222512367140964,0.6157255906832306,0.0870309557358998,0.9700490672725213,0.06826585888492487,0.13007850814207977,0.9865769970969112,0.5707585820991099,0.5420453131695647,0.9104139723679983,0.4839723388045103,0.7862793352840902,0.3763731200850874,0.7112589966079432,0.7108503364546558,0.2265866807032435,0.60189129419443,0.5770949895224076,0.3068358055947563,0.7323072820902709,0.8584026668461645,0.953503631729672,0.4737120764302085,0.026637690319661456,0.8594564867551686,0.09890025227100963,0.8370978674458291,0.8789910987368124,0.7470118081059668,0.15867152225970826,0.11445285198021371,0.6908437135154406,0.28523573243409517,0.45905724627260824,0.7317873215536029,0.4823039501781128,0.1894097751289393,0.4677769933153445,0.4505682725958595,0.879605867049286,0.19655669559569633,0.14572884008130538,0.375913878392362,0.6565444876514981,0.5245159662831952,0.6951026350308428,0.7461688028863522,0.3231132410466353,0.711923669745539,0.5738561146661982,0.5572262515979854,0.8372043178252019,0.033564013896489886,0.9257645579843516,0.08181855863766152,0.3024395741508781,0.8364878872915332,0.8775195311455193,0.36623670096101546,0.6940314766551401,0.17510096507599626,0.7377376316157636,0.00014427881564438305,0.8982037859352132,0.10089391758638555,0.6077627269141116,0.5484187459316302,0.2524874474447353,0.022670864925302125,0.15973796913747595,0.9795678551065182,0.8748740887685557,0.6676588523750618,0.5624766342702334,0.7698724043628101,0.32880444488318494,0.9691442678565819,0.8864237809466127,0.9771543817778191,0.8885052809483478,0.9232033734807532,0.49514571556956855,0.8969082274281376,0.6560729150772824,0.6881706135650871,0.06532515961785723,0.10779482397312268,0.26781364323881074,0.945399990301166,0.9275549622448332,0.4584503543551216,0.5902483075820226,0.38239826936126464,0.5495277944963549,0.45523764433582803,0.9142584027499877,0.911600685761641,0.6732666664347238,0.04589646687297089,0.8220357693897915,0.7980681099512834,0.5158305559402575,0.4684187876329782,0.1710547326502473,0.06522290799314245,0.7144885122009894,0.38601456044735316,0.32545518717099964,0.6202646712739609,0.9524155478426539,0.11997059937701637,0.17376885385825058,0.4896952178612267,0.6993412012822878,0.45097294023455603,0.45087002654488595,0.014013820771113683,0.5201343716858003,0.4733141446057537,0.16052179313713155,0.4690548120936272,0.5956268289406422,0.7331109168385224,0.8401614082394071,0.6654547016204359,0.018070863499231482,0.48095403101981804,0.09231286010210493,0.8974378531141286,0.9475662908314465,0.3840604505229891,0.7411149423351803,0.12033735542745305,0.7902208459969371,0.4468868394755384,0.7809330212629817,0.7639366112431648,0.7577660595149426,0.2773359624639109,0.7735875260115418,0.865051259253146,0.0416351209609328,0.0502834195996521,0.06116662294773478,0.19015492130325062,0.6875285401261405,0.06510485522645337,0.1966239480196884,0.5001561805296039,0.7294144968863859,0.11906706613134177,0.704775787806222,0.12875148264640546,0.47026646601647415,0.6691368291175763,0.7473107620853803,0.9718524452119506,0.06064473411243687,0.8183642510112712,0.34239641994957803,0.8289880969782906,0.47010420057493085,0.32057052069248126,0.39830564889809494,0.6371522028432297,0.3274032791886744,0.2094412409774825,0.24434419704189592,0.43813899412551305,0.0800263037547907,0.16865512899061263,0.483379408713997,0.08992210834627723,0.669768941009757,0.6556374949791095,0.849883337244829,0.6492955937011875,0.3401425199367024,0.04879138120398829,0.19231805121031453,0.6344596061729004,0.12332490284683739,0.9543463650607865,0.9181289782478081,0.6765534731768251,0.4239053436124641,0.4079619779188921,0.7268940036984565,0.21685744849779776,0.1757624489871008,0.08167123340397764,0.2605625903354518,0.1878514267402931,0.8242800867152968,0.9545189268267384,0.0926033568490301,0.49463171041871634,0.8226408532849111,0.9658558891726343,0.280609483242799,0.9802410759196998,0.9948125287159566,0.910799854954876,0.0635212860081178,0.17162436167604378,0.8701644818981182,0.9981201899931624,0.6269649827511796,0.8275316662190736,0.4988099583643042,0.3103518201334433,0.06625561121583412,0.3386558696143174,0.6369583778552441,0.629897892001136,0.18083518691629563,0.17788840131976935,0.2009109186060597,0.48177253579210433,0.14643255765020435,0.9746857157328599,0.4544870908204913,0.9205443636490777,0.4376584584376577,0.7565199756619171,0.6787446325946029,0.8432826117531642,0.8923644204690051,0.7508755492440855,0.4590602779083114,0.47226334193136454,0.6669885865438294,0.5597688439064327,0.6657860161678015,0.766633007174402,0.5968653054842649,0.7833767976660332,0.12085897427276826,0.1121050777087671,0.3531199804923868,0.07797233064424636,0.7145007378117383,0.8068798397812139,0.7858959381346199,0.7333721663186016,0.8252482451879064,0.037713323848727276,0.5820406088496772,0.41063888687907524,0.4677952095690373,0.39628466922201655,0.9861067121834276,0.30298189398466757,0.7792444508043822,0.488758221696303,0.5174961654944297,0.7049934519076783,0.7500172385050503,0.048304288912446536,0.06004963328486046,0.28198288298337915,0.02125333432625298,0.7540090020182396,0.8877373414411245,0.6227906658337408,0.9148137186343835,0.14039634111028287,0.7340178204468953,0.10440282398076184,0.6772856507688556,0.6186570327058816,0.33394627061386595,0.9089359548511887,0.658322542429215,0.9498413872155048,0.3150349009818574,0.6199677369244682,0.7638316156103707,0.6433864595041725,0.6453959215404195,0.9594258591063951,0.6403684682255641,0.3523354078732043,0.5105882614429129,0.5433412585299174,0.7010383560582706,0.5767871635123302,0.6119847796847333,0.07011193417629769,0.0028363349617100964,0.012417346289558151,0.9939536724141748,0.5544728192101913,0.1859985145895976,0.2932436034407734,0.22420428520367475,0.29657389541083456,0.3222628464819446,0.27365333451413254,0.8472979998325373,0.06661522815991672,0.19235339979315724,0.41216134260748305,0.9517860210030865,0.0646986360237769,0.29052768216993097,0.40640179074647975,0.837092221991644,0.6839353886414365,0.94460085401829,0.43342914184045345,0.8950694892114417,0.7930673045937333,0.6080993506794792,0.848969795039544,0.5851922366540818,0.43702054460630346,0.6867774352708358,0.769947841930335,0.020356526528515717,0.5382215749199153,0.020587941056748882,0.9353040255728929,0.6725830803322261,0.39459181983371283,0.8193203442755471,0.8694085377713799,0.20568546116906283,0.8045193386118736,0.23915596669201422,0.7221242420113964,0.9259013617555135,0.21040829953138362,0.051723591285374404,0.5038162055052693,0.0478488196311504,0.5995125417026027,0.27295423326047774,0.7480209072907351,0.5470074713772208,0.18754682286961644,0.4361725867614422]},\"selected\":{\"id\":\"2102\",\"type\":\"Selection\"},\"selection_policy\":{\"id\":\"2103\",\"type\":\"UnionRenderers\"}},\"id\":\"1992\",\"type\":\"ColumnDataSource\"},{\"attributes\":{\"args\":{\"s1\":{\"id\":\"1992\",\"type\":\"ColumnDataSource\"},\"s2\":{\"id\":\"2023\",\"type\":\"ColumnDataSource\"}},\"code\":\"\\n    var inds = s1.selected.indices;\\n    if (inds.length == 0)\\n        return;\\n\\n    var ym = 0\\n    for (var i = 0; i < inds.length; i++) {\\n        ym += s1.data.y[inds[i]]\\n    }\\n    \\n    ym /= inds.length\\n    s2.data.ym = [ym, ym]\\n\\n    // necessary becasue we mutated source.data in-place\\n    s2.change.emit();  \\n\"},\"id\":\"2029\",\"type\":\"CustomJS\"},{\"attributes\":{\"callback\":null},\"id\":\"1998\",\"type\":\"DataRange1d\"},{\"attributes\":{},\"id\":\"2098\",\"type\":\"BasicTickFormatter\"},{\"attributes\":{\"line_alpha\":0.1,\"line_color\":\"#1f77b4\",\"line_width\":5,\"x\":{\"field\":\"xm\"},\"y\":{\"field\":\"ym\"}},\"id\":\"2026\",\"type\":\"Line\"},{\"attributes\":{},\"id\":\"2000\",\"type\":\"LinearScale\"},{\"attributes\":{\"source\":{\"id\":\"2023\",\"type\":\"ColumnDataSource\"}},\"id\":\"2028\",\"type\":\"CDSView\"},{\"attributes\":{},\"id\":\"2002\",\"type\":\"LinearScale\"},{\"attributes\":{\"formatter\":{\"id\":\"2100\",\"type\":\"BasicTickFormatter\"},\"ticker\":{\"id\":\"2005\",\"type\":\"BasicTicker\"}},\"id\":\"2004\",\"type\":\"LinearAxis\"},{\"attributes\":{},\"id\":\"2005\",\"type\":\"BasicTicker\"},{\"attributes\":{\"fill_alpha\":{\"value\":0.5},\"fill_color\":{\"value\":\"lightgrey\"},\"level\":\"overlay\",\"line_alpha\":{\"value\":1.0},\"line_color\":{\"value\":\"black\"},\"line_dash\":[4,4],\"line_width\":{\"value\":2},\"xs_units\":\"screen\",\"ys_units\":\"screen\"},\"id\":\"2101\",\"type\":\"PolyAnnotation\"},{\"attributes\":{\"ticker\":{\"id\":\"2005\",\"type\":\"BasicTicker\"}},\"id\":\"2008\",\"type\":\"Grid\"},{\"attributes\":{},\"id\":\"2102\",\"type\":\"Selection\"},{\"attributes\":{\"formatter\":{\"id\":\"2098\",\"type\":\"BasicTickFormatter\"},\"ticker\":{\"id\":\"2010\",\"type\":\"BasicTicker\"}},\"id\":\"2009\",\"type\":\"LinearAxis\"},{\"attributes\":{},\"id\":\"2103\",\"type\":\"UnionRenderers\"},{\"attributes\":{},\"id\":\"2010\",\"type\":\"BasicTicker\"},{\"attributes\":{},\"id\":\"2104\",\"type\":\"Selection\"},{\"attributes\":{},\"id\":\"2100\",\"type\":\"BasicTickFormatter\"},{\"attributes\":{},\"id\":\"2105\",\"type\":\"UnionRenderers\"},{\"attributes\":{\"dimension\":1,\"ticker\":{\"id\":\"2010\",\"type\":\"BasicTicker\"}},\"id\":\"2013\",\"type\":\"Grid\"},{\"attributes\":{\"active_drag\":\"auto\",\"active_inspect\":\"auto\",\"active_multi\":null,\"active_scroll\":\"auto\",\"active_tap\":\"auto\",\"tools\":[{\"id\":\"2014\",\"type\":\"LassoSelectTool\"}]},\"id\":\"2015\",\"type\":\"Toolbar\"},{\"attributes\":{\"callback\":null,\"overlay\":{\"id\":\"2101\",\"type\":\"PolyAnnotation\"}},\"id\":\"2014\",\"type\":\"LassoSelectTool\"},{\"attributes\":{\"line_alpha\":0.6,\"line_color\":\"orange\",\"line_width\":5,\"x\":{\"field\":\"xm\"},\"y\":{\"field\":\"ym\"}},\"id\":\"2025\",\"type\":\"Line\"},{\"attributes\":{\"fill_alpha\":{\"value\":0.4},\"fill_color\":{\"field\":\"color\"},\"line_alpha\":{\"value\":0.4},\"line_color\":{\"field\":\"color\"},\"size\":{\"units\":\"screen\",\"value\":8},\"x\":{\"field\":\"x\"},\"y\":{\"field\":\"y\"}},\"id\":\"2018\",\"type\":\"Circle\"},{\"attributes\":{\"fill_alpha\":{\"value\":0.1},\"fill_color\":{\"value\":\"#1f77b4\"},\"line_alpha\":{\"value\":0.1},\"line_color\":{\"value\":\"#1f77b4\"},\"size\":{\"units\":\"screen\",\"value\":8},\"x\":{\"field\":\"x\"},\"y\":{\"field\":\"y\"}},\"id\":\"2019\",\"type\":\"Circle\"}],\"root_ids\":[\"1993\"]},\"title\":\"Bokeh Application\",\"version\":\"1.1.0\"}};\n",
       "  var render_items = [{\"docid\":\"35f53372-5b20-4c38-8e58-a7da55038773\",\"roots\":{\"1993\":\"5cbd4a37-caf1-4357-a1a3-41b256678494\"}}];\n",
       "  root.Bokeh.embed.embed_items_notebook(docs_json, render_items);\n",
       "\n",
       "  }\n",
       "  if (root.Bokeh !== undefined) {\n",
       "    embed_document(root);\n",
       "  } else {\n",
       "    var attempts = 0;\n",
       "    var timer = setInterval(function(root) {\n",
       "      if (root.Bokeh !== undefined) {\n",
       "        embed_document(root);\n",
       "        clearInterval(timer);\n",
       "      }\n",
       "      attempts++;\n",
       "      if (attempts > 100) {\n",
       "        console.log(\"Bokeh: ERROR: Unable to run BokehJS code because BokehJS library is missing\");\n",
       "        clearInterval(timer);\n",
       "      }\n",
       "    }, 10, root)\n",
       "  }\n",
       "})(window);"
      ],
      "application/vnd.bokehjs_exec.v0+json": ""
     },
     "metadata": {
      "application/vnd.bokehjs_exec.v0+json": {
       "id": "1993"
      }
     },
     "output_type": "display_data"
    }
   ],
   "source": [
    "from random import random\n",
    "\n",
    "x = [random() for x in range(500)]\n",
    "y = [random() for y in range(500)]\n",
    "color = [\"navy\"] * len(x)\n",
    "\n",
    "s1 = ColumnDataSource(data=dict(x=x, y=y, color=color))\n",
    "p = figure(plot_width=400, plot_height=400, tools=\"lasso_select\", title=\"Select Here\")\n",
    "p.circle('x', 'y', color='color', size=8, alpha=0.4, source=s1, \n",
    "         selection_color=\"firebrick\", selection_alpha=0.4)\n",
    "\n",
    "s2 = ColumnDataSource(data=dict(xm=[0,1],ym=[0.5, 0.5]))\n",
    "p.line(x='xm', y='ym', color=\"orange\", line_width=5, alpha=0.6, source=s2)\n",
    "\n",
    "s1.callback = CustomJS(args=dict(s1=s1, s2=s2), code=\"\"\"\n",
    "    var inds = s1.selected.indices;\n",
    "    if (inds.length == 0)\n",
    "        return;\n",
    "\n",
    "    var ym = 0\n",
    "    for (var i = 0; i < inds.length; i++) {\n",
    "        ym += s1.data.y[inds[i]]\n",
    "    }\n",
    "    \n",
    "    ym /= inds.length\n",
    "    s2.data.ym = [ym, ym]\n",
    "\n",
    "    // necessary becasue we mutated source.data in-place\n",
    "    s2.change.emit();  \n",
    "\"\"\")\n",
    "\n",
    "show(p)"
   ]
  },
  {
   "cell_type": "code",
   "execution_count": 13,
   "metadata": {},
   "outputs": [],
   "source": [
    "# Exercise: Experiment with selection callbacks\n",
    "\n"
   ]
  },
  {
   "cell_type": "markdown",
   "metadata": {
    "collapsed": true
   },
   "source": [
    "## CustomJS for UI Events\n",
    "\n",
    "Bokeh also has a general events system\n",
    "\n",
    "All of the available UI events, and their properties, are listed in the Reference Guide section for [bokeh.events](https://bokeh.pydata.org/en/latest/docs/reference/events.html)"
   ]
  },
  {
   "cell_type": "code",
   "execution_count": 14,
   "metadata": {},
   "outputs": [
    {
     "data": {
      "text/html": [
       "\n",
       "\n",
       "\n",
       "\n",
       "\n",
       "\n",
       "  <div class=\"bk-root\" id=\"2f7ad85d-1310-4858-b22a-3c9fe24fecf2\" data-root-id=\"2196\"></div>\n"
      ]
     },
     "metadata": {},
     "output_type": "display_data"
    },
    {
     "data": {
      "application/javascript": [
       "(function(root) {\n",
       "  function embed_document(root) {\n",
       "    \n",
       "  var docs_json = {\"1d594689-8441-45d3-8d86-5254dc99ca3f\":{\"roots\":{\"references\":[{\"attributes\":{\"children\":[{\"id\":\"2194\",\"type\":\"Button\"},{\"id\":\"2195\",\"type\":\"Row\"}]},\"id\":\"2196\",\"type\":\"Column\"},{\"attributes\":{},\"id\":\"2282\",\"type\":\"Selection\"},{\"attributes\":{},\"id\":\"2181\",\"type\":\"BasicTicker\"},{\"attributes\":{},\"id\":\"2283\",\"type\":\"UnionRenderers\"},{\"attributes\":{\"dimension\":1,\"ticker\":{\"id\":\"2181\",\"type\":\"BasicTicker\"}},\"id\":\"2184\",\"type\":\"Grid\"},{\"attributes\":{\"active_drag\":\"auto\",\"active_inspect\":\"auto\",\"active_multi\":null,\"active_scroll\":\"auto\",\"active_tap\":\"auto\",\"tools\":[{\"id\":\"2185\",\"type\":\"BoxSelectTool\"}]},\"id\":\"2186\",\"type\":\"Toolbar\"},{\"attributes\":{\"callback\":null,\"overlay\":{\"id\":\"2281\",\"type\":\"BoxAnnotation\"}},\"id\":\"2185\",\"type\":\"BoxSelectTool\"},{\"attributes\":{},\"id\":\"2176\",\"type\":\"BasicTicker\"},{\"attributes\":{\"fill_alpha\":{\"value\":0.1},\"fill_color\":{\"value\":\"#1f77b4\"},\"line_alpha\":{\"value\":0.1},\"line_color\":{\"value\":\"#1f77b4\"},\"radius\":{\"units\":\"data\",\"value\":1},\"x\":{\"field\":\"x\"},\"y\":{\"field\":\"y\"}},\"id\":\"2190\",\"type\":\"Circle\"},{\"attributes\":{},\"id\":\"2173\",\"type\":\"LinearScale\"},{\"attributes\":{\"formatter\":{\"id\":\"2280\",\"type\":\"BasicTickFormatter\"},\"ticker\":{\"id\":\"2176\",\"type\":\"BasicTicker\"}},\"id\":\"2175\",\"type\":\"LinearAxis\"},{\"attributes\":{\"callback\":null},\"id\":\"2169\",\"type\":\"DataRange1d\"},{\"attributes\":{\"fill_alpha\":{\"value\":0.6},\"fill_color\":{\"value\":\"#1f77b4\"},\"line_color\":{\"value\":null},\"radius\":{\"units\":\"data\",\"value\":1},\"x\":{\"field\":\"x\"},\"y\":{\"field\":\"y\"}},\"id\":\"2189\",\"type\":\"Circle\"},{\"attributes\":{\"data_source\":{\"id\":\"2188\",\"type\":\"ColumnDataSource\"},\"glyph\":{\"id\":\"2189\",\"type\":\"Circle\"},\"hover_glyph\":null,\"muted_glyph\":null,\"nonselection_glyph\":{\"id\":\"2190\",\"type\":\"Circle\"},\"selection_glyph\":null,\"view\":{\"id\":\"2192\",\"type\":\"CDSView\"}},\"id\":\"2191\",\"type\":\"GlyphRenderer\"},{\"attributes\":{},\"id\":\"2171\",\"type\":\"LinearScale\"},{\"attributes\":{\"source\":{\"id\":\"2188\",\"type\":\"ColumnDataSource\"}},\"id\":\"2192\",\"type\":\"CDSView\"},{\"attributes\":{\"below\":[{\"id\":\"2175\",\"type\":\"LinearAxis\"}],\"center\":[{\"id\":\"2179\",\"type\":\"Grid\"},{\"id\":\"2184\",\"type\":\"Grid\"}],\"js_event_callbacks\":{\"selectiongeometry\":[{\"id\":\"2198\",\"type\":\"CustomJS\"}]},\"left\":[{\"id\":\"2180\",\"type\":\"LinearAxis\"}],\"renderers\":[{\"id\":\"2191\",\"type\":\"GlyphRenderer\"}],\"title\":{\"id\":\"2275\",\"type\":\"Title\"},\"toolbar\":{\"id\":\"2186\",\"type\":\"Toolbar\"},\"x_range\":{\"id\":\"2167\",\"type\":\"DataRange1d\"},\"x_scale\":{\"id\":\"2171\",\"type\":\"LinearScale\"},\"y_range\":{\"id\":\"2169\",\"type\":\"DataRange1d\"},\"y_scale\":{\"id\":\"2173\",\"type\":\"LinearScale\"}},\"id\":\"2166\",\"subtype\":\"Figure\",\"type\":\"Plot\"},{\"attributes\":{\"callback\":null,\"icon\":null,\"js_event_callbacks\":{\"button_click\":[{\"id\":\"2197\",\"type\":\"CustomJS\"}]},\"width\":300},\"id\":\"2194\",\"type\":\"Button\"},{\"attributes\":{\"callback\":null},\"id\":\"2167\",\"type\":\"DataRange1d\"},{\"attributes\":{\"formatter\":{\"id\":\"2278\",\"type\":\"BasicTickFormatter\"},\"ticker\":{\"id\":\"2181\",\"type\":\"BasicTicker\"}},\"id\":\"2180\",\"type\":\"LinearAxis\"},{\"attributes\":{\"children\":[{\"id\":\"2166\",\"subtype\":\"Figure\",\"type\":\"Plot\"},{\"id\":\"2193\",\"type\":\"Div\"}]},\"id\":\"2195\",\"type\":\"Row\"},{\"attributes\":{\"width\":400},\"id\":\"2193\",\"type\":\"Div\"},{\"attributes\":{\"bottom_units\":\"screen\",\"fill_alpha\":{\"value\":0.5},\"fill_color\":{\"value\":\"lightgrey\"},\"left_units\":\"screen\",\"level\":\"overlay\",\"line_alpha\":{\"value\":1.0},\"line_color\":{\"value\":\"black\"},\"line_dash\":[4,4],\"line_width\":{\"value\":2},\"render_mode\":\"css\",\"right_units\":\"screen\",\"top_units\":\"screen\"},\"id\":\"2281\",\"type\":\"BoxAnnotation\"},{\"attributes\":{\"args\":{\"div\":{\"id\":\"2193\",\"type\":\"Div\"}},\"code\":\"\\ndiv.text = \\\"Button!\\\";\\n\"},\"id\":\"2197\",\"type\":\"CustomJS\"},{\"attributes\":{\"callback\":null,\"data\":{\"x\":{\"__ndarray__\":\"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\",\"dtype\":\"float64\",\"shape\":[2000]},\"y\":{\"__ndarray__\":\"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\",\"dtype\":\"float64\",\"shape\":[2000]}},\"selected\":{\"id\":\"2282\",\"type\":\"Selection\"},\"selection_policy\":{\"id\":\"2283\",\"type\":\"UnionRenderers\"}},\"id\":\"2188\",\"type\":\"ColumnDataSource\"},{\"attributes\":{\"args\":{\"div\":{\"id\":\"2193\",\"type\":\"Div\"}},\"code\":\"\\ndiv.text = \\\"Selection! <p> <p>\\\" + JSON.stringify(cb_obj.geometry, undefined, 2);\\n\"},\"id\":\"2198\",\"type\":\"CustomJS\"},{\"attributes\":{},\"id\":\"2278\",\"type\":\"BasicTickFormatter\"},{\"attributes\":{\"text\":\"\"},\"id\":\"2275\",\"type\":\"Title\"},{\"attributes\":{},\"id\":\"2280\",\"type\":\"BasicTickFormatter\"},{\"attributes\":{\"ticker\":{\"id\":\"2176\",\"type\":\"BasicTicker\"}},\"id\":\"2179\",\"type\":\"Grid\"}],\"root_ids\":[\"2196\"]},\"title\":\"Bokeh Application\",\"version\":\"1.1.0\"}};\n",
       "  var render_items = [{\"docid\":\"1d594689-8441-45d3-8d86-5254dc99ca3f\",\"roots\":{\"2196\":\"2f7ad85d-1310-4858-b22a-3c9fe24fecf2\"}}];\n",
       "  root.Bokeh.embed.embed_items_notebook(docs_json, render_items);\n",
       "\n",
       "  }\n",
       "  if (root.Bokeh !== undefined) {\n",
       "    embed_document(root);\n",
       "  } else {\n",
       "    var attempts = 0;\n",
       "    var timer = setInterval(function(root) {\n",
       "      if (root.Bokeh !== undefined) {\n",
       "        embed_document(root);\n",
       "        clearInterval(timer);\n",
       "      }\n",
       "      attempts++;\n",
       "      if (attempts > 100) {\n",
       "        console.log(\"Bokeh: ERROR: Unable to run BokehJS code because BokehJS library is missing\");\n",
       "        clearInterval(timer);\n",
       "      }\n",
       "    }, 10, root)\n",
       "  }\n",
       "})(window);"
      ],
      "application/vnd.bokehjs_exec.v0+json": ""
     },
     "metadata": {
      "application/vnd.bokehjs_exec.v0+json": {
       "id": "2196"
      }
     },
     "output_type": "display_data"
    }
   ],
   "source": [
    "from bokeh.plotting import figure\n",
    "from bokeh import events\n",
    "from bokeh.models import CustomJS, Div, Button\n",
    "from bokeh.layouts import column, row\n",
    "\n",
    "import numpy as np\n",
    "x = np.random.random(size=2000) * 100\n",
    "y = np.random.random(size=2000) * 100\n",
    "\n",
    "p = figure(tools=\"box_select\")\n",
    "p.scatter(x, y, radius=1, fill_alpha=0.6, line_color=None)\n",
    "\n",
    "div = Div(width=400)\n",
    "button = Button(label=\"Button\", width=300)\n",
    "layout = column(button, row(p, div))\n",
    "\n",
    "# Events with no attributes\n",
    "button.js_on_event(events.ButtonClick,  CustomJS(args=dict(div=div), code=\"\"\"\n",
    "div.text = \"Button!\";\n",
    "\"\"\")) \n",
    "\n",
    "p.js_on_event(events.SelectionGeometry, CustomJS(args=dict(div=div), code=\"\"\"\n",
    "div.text = \"Selection! <p> <p>\" + JSON.stringify(cb_obj.geometry, undefined, 2);\n",
    "\"\"\"))\n",
    "\n",
    "show(layout)"
   ]
  },
  {
   "cell_type": "code",
   "execution_count": 15,
   "metadata": {},
   "outputs": [],
   "source": [
    "# Exercise: Create a plot that responds to different events from bokeh.events\n",
    "\n"
   ]
  },
  {
   "cell_type": "markdown",
   "metadata": {
    "collapsed": true
   },
   "source": [
    "## Additional Information\n",
    "\n",
    "There are many kinds of interactions and events that can be connected to `CustomJS` callbacks. \n",
    "\n",
    "\n",
    "* Widgets - Button, Toggle, Dropdown, TextInput, AutocompleteInput, Select, Multiselect, Slider, (DateRangeSlider), DatePicker,\n",
    "* Tools - TapTool, BoxSelectTool, HoverTool,\n",
    "* Selection - ColumnDataSource, AjaxDataSource, BlazeDataSource, ServerDataSource\n",
    "* Ranges - Range1d, DataRange1d, FactorRange\n",
    "\n",
    "\n",
    "For more complete examples the User Guide section on [JavaScript Interactions](http://bokeh.pydata.org/en/latest/docs/user_guide/interaction.html)"
   ]
  },
  {
   "cell_type": "code",
   "execution_count": null,
   "metadata": {},
   "outputs": [],
   "source": []
  }
 ],
 "metadata": {
  "anaconda-cloud": {},
  "kernelspec": {
   "display_name": "Python 3",
   "language": "python",
   "name": "python3"
  },
  "language_info": {
   "codemirror_mode": {
    "name": "ipython",
    "version": 3
   },
   "file_extension": ".py",
   "mimetype": "text/x-python",
   "name": "python",
   "nbconvert_exporter": "python",
   "pygments_lexer": "ipython3",
   "version": "3.6.7"
  },
  "widgets": {
   "state": {
    "335ae2c8ff80469e9adac668c2924989": {
     "views": [
      {
       "cell_index": 19
      }
     ]
    }
   },
   "version": "1.2.0"
  }
 },
 "nbformat": 4,
 "nbformat_minor": 1
}
