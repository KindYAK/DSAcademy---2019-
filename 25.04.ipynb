{
 "cells": [
  {
   "cell_type": "code",
   "execution_count": 12,
   "metadata": {},
   "outputs": [],
   "source": [
    "h1, m1, s1 = 1, 1, 1\n",
    "h2, m2, s2 = 2, 2, 2"
   ]
  },
  {
   "cell_type": "code",
   "execution_count": 14,
   "metadata": {},
   "outputs": [
    {
     "data": {
      "text/plain": [
       "3661"
      ]
     },
     "execution_count": 14,
     "metadata": {},
     "output_type": "execute_result"
    }
   ],
   "source": [
    "(h2 * 60 * 60 + m2 * 60 + s2) - (h1 * 60 * 60 + m1 * 60 + s1)"
   ]
  },
  {
   "cell_type": "code",
   "execution_count": 15,
   "metadata": {},
   "outputs": [],
   "source": [
    "a = 4554"
   ]
  },
  {
   "cell_type": "code",
   "execution_count": 16,
   "metadata": {},
   "outputs": [
    {
     "name": "stdout",
     "output_type": "stream",
     "text": [
      "1\n"
     ]
    }
   ],
   "source": [
    "a1 = a // 1000 % 10\n",
    "a2 = a // 100 % 10\n",
    "a3 = a // 10 % 10\n",
    "a4 = a // 1 % 10\n",
    "print((a1*10+a2) - (a4*10+a3) + 1)"
   ]
  },
  {
   "cell_type": "code",
   "execution_count": 34,
   "metadata": {},
   "outputs": [],
   "source": [
    "x1, y1 = 3, 4\n",
    "x2, y2 = 5, 6"
   ]
  },
  {
   "cell_type": "code",
   "execution_count": 35,
   "metadata": {},
   "outputs": [
    {
     "name": "stdout",
     "output_type": "stream",
     "text": [
      "Yes\n"
     ]
    }
   ],
   "source": [
    "if x1 == x2:\n",
    "    print(\"Yes\")\n",
    "elif y1 == y2:\n",
    "    print(\"Yes\")\n",
    "elif abs(x1-x2) == abs(y1-y2):\n",
    "    print(\"Yes\")\n",
    "else:\n",
    "    print(\"No\")"
   ]
  },
  {
   "cell_type": "code",
   "execution_count": 50,
   "metadata": {},
   "outputs": [
    {
     "name": "stdout",
     "output_type": "stream",
     "text": [
      "2\n"
     ]
    }
   ],
   "source": [
    "a = 12\n",
    "found = False\n",
    "for i in range(2, a+1):\n",
    "    if a%i == 0 and not found:\n",
    "        found = True\n",
    "        print(i)"
   ]
  },
  {
   "cell_type": "code",
   "execution_count": 56,
   "metadata": {},
   "outputs": [
    {
     "name": "stdout",
     "output_type": "stream",
     "text": [
      "24\n"
     ]
    }
   ],
   "source": [
    "a = 4\n",
    "s = 1\n",
    "for i in range(1, a + 1):\n",
    "    s = s * i\n",
    "print(s)"
   ]
  },
  {
   "cell_type": "code",
   "execution_count": 58,
   "metadata": {
    "scrolled": true
   },
   "outputs": [
    {
     "name": "stdout",
     "output_type": "stream",
     "text": [
      "345\n",
      "345\n",
      "345\n",
      "567\n",
      "0\n",
      "567\n",
      "0\n",
      "657\n",
      "0\n",
      "45\n",
      "3\n"
     ]
    }
   ],
   "source": [
    "counter_0 = 0\n",
    "for i in range(10):\n",
    "    n = int(input())\n",
    "    if n == 0:\n",
    "        counter_0 = counter_0 + 1\n",
    "print(counter_0)"
   ]
  },
  {
   "cell_type": "code",
   "execution_count": 81,
   "metadata": {},
   "outputs": [],
   "source": [
    "a = [1234]"
   ]
  },
  {
   "cell_type": "code",
   "execution_count": 82,
   "metadata": {},
   "outputs": [
    {
     "name": "stdout",
     "output_type": "stream",
     "text": [
      "1234\n"
     ]
    }
   ],
   "source": [
    "for i in range(len(a)):\n",
    "    print(a[i])"
   ]
  },
  {
   "cell_type": "code",
   "execution_count": 83,
   "metadata": {},
   "outputs": [
    {
     "name": "stdout",
     "output_type": "stream",
     "text": [
      "1234\n"
     ]
    }
   ],
   "source": [
    "for i in a:\n",
    "    print(i)"
   ]
  },
  {
   "cell_type": "code",
   "execution_count": 80,
   "metadata": {},
   "outputs": [],
   "source": [
    "a = [1, 2234,234,23,4 ,234,23, 4]"
   ]
  },
  {
   "cell_type": "code",
   "execution_count": 84,
   "metadata": {},
   "outputs": [],
   "source": [
    "# Task 1 - Sum, average of list\n",
    "# Task 2 - Local maximums (больше, чем оба соседа)\n",
    "# Task 3 - Есть ли простые числа в массиве"
   ]
  },
  {
   "cell_type": "code",
   "execution_count": 90,
   "metadata": {},
   "outputs": [
    {
     "name": "stdout",
     "output_type": "stream",
     "text": [
      "Sum:  38\n",
      "Average:  3.4545454545454546\n"
     ]
    }
   ],
   "source": [
    "a = [1,2,7,4,5,4,3,2,4,5,1]\n",
    "s = 0\n",
    "for i in a:\n",
    "    s += i #s = s + i\n",
    "print(\"Sum: \", s)\n",
    "print(\"Average: \", s / len(a))"
   ]
  },
  {
   "cell_type": "code",
   "execution_count": 91,
   "metadata": {},
   "outputs": [
    {
     "name": "stdout",
     "output_type": "stream",
     "text": [
      "7\n",
      "5\n",
      "5\n"
     ]
    }
   ],
   "source": [
    "for i in range(1, len(a)-1):\n",
    "    if a[i] > a[i+1] and a[i] > a[i-1]:\n",
    "        print(a[i])"
   ]
  },
  {
   "cell_type": "code",
   "execution_count": 102,
   "metadata": {},
   "outputs": [
    {
     "name": "stdout",
     "output_type": "stream",
     "text": [
      "No\n"
     ]
    }
   ],
   "source": [
    "a = [4,6,4,4,6,4,4,8,4,4,10]\n",
    "for i in a:\n",
    "    is_prime = True\n",
    "    for div in range(2, int(i**(0.5)+1)):\n",
    "        if i%div==0:\n",
    "            is_prime = False\n",
    "            break\n",
    "    if is_prime:\n",
    "        print(\"Yes\")\n",
    "        break\n",
    "if not is_prime:\n",
    "    print(\"No\")"
   ]
  },
  {
   "cell_type": "code",
   "execution_count": 112,
   "metadata": {},
   "outputs": [],
   "source": [
    "d1 = {\n",
    "    \"age\": 25,\n",
    "    \"salary\": 150000,\n",
    "    \"name\": \"John\",\n",
    "    \"children\": [{\"name\": \"Masha\", \"age\": 15}, {\"name\": \"John\", \"age\": 5}],\n",
    "    \"job\": \"sdfsadfasdf\"\n",
    "}\n",
    "d2 = {\n",
    "    \"age\": 12,\n",
    "    \"salary\": 0,\n",
    "    \"name\": \"Masha\",\n",
    "    \"children\": [],\n",
    "    \"job\": \"School\"\n",
    "}\n",
    "d3 = {\n",
    "    \"age\": 17,\n",
    "    \"salary\": 50000,\n",
    "    \"name\": \"Vasya\",\n",
    "    \"children\": [],\n",
    "    \"job\": \"Recruit\"\n",
    "}"
   ]
  },
  {
   "cell_type": "code",
   "execution_count": 120,
   "metadata": {},
   "outputs": [
    {
     "data": {
      "text/plain": [
       "'Маша сказала: \"Привет\"'"
      ]
     },
     "execution_count": 120,
     "metadata": {},
     "output_type": "execute_result"
    }
   ],
   "source": [
    "s=\"Маша сказала: \\\"Привет\\\"\"\n",
    "s='Маша сказала: \"Привет\"'"
   ]
  },
  {
   "cell_type": "code",
   "execution_count": 113,
   "metadata": {},
   "outputs": [],
   "source": []
  },
  {
   "cell_type": "code",
   "execution_count": 119,
   "metadata": {},
   "outputs": [
    {
     "name": "stdout",
     "output_type": "stream",
     "text": [
      "John - 25 years - 2 children\n",
      "Masha - 12 years - 0 children\n",
      "Vasya - 17 years - 0 children\n"
     ]
    }
   ],
   "source": [
    "for i in a:\n",
    "    print(i['name'], \"-\", i['age'], \"years\", \"-\", \n",
    "          len(i['children']), \"children\")"
   ]
  },
  {
   "cell_type": "code",
   "execution_count": 131,
   "metadata": {},
   "outputs": [],
   "source": [
    "a = [i**2 for i in range(15) if i%2==0]"
   ]
  },
  {
   "cell_type": "code",
   "execution_count": 135,
   "metadata": {},
   "outputs": [
    {
     "name": "stdout",
     "output_type": "stream",
     "text": [
      "560 196 0\n"
     ]
    }
   ],
   "source": [
    "print(sum(a), max(a), min(a))"
   ]
  },
  {
   "cell_type": "code",
   "execution_count": 141,
   "metadata": {},
   "outputs": [
    {
     "data": {
      "text/plain": [
       "150000.0"
      ]
     },
     "execution_count": 141,
     "metadata": {},
     "output_type": "execute_result"
    }
   ],
   "source": [
    "a = [d1, d2, d3]\n",
    "salaries_with_children = [i['salary'] for i in a if i['children']]\n",
    "sum(salaries_with_children) / len(salaries_with_children)"
   ]
  },
  {
   "cell_type": "code",
   "execution_count": 182,
   "metadata": {},
   "outputs": [
    {
     "data": {
      "text/plain": [
       "[165000, 15000, 65000]"
      ]
     },
     "execution_count": 182,
     "metadata": {},
     "output_type": "execute_result"
    }
   ],
   "source": [
    "def f(n):\n",
    "    a = n['salary']+5000\n",
    "    return a\n",
    "list(map(f, a))"
   ]
  },
  {
   "cell_type": "code",
   "execution_count": 181,
   "metadata": {},
   "outputs": [],
   "source": [
    "def f(n):\n",
    "    a = n['salary']**2\n",
    "    return a"
   ]
  },
  {
   "cell_type": "code",
   "execution_count": 176,
   "metadata": {},
   "outputs": [
    {
     "name": "stdout",
     "output_type": "stream",
     "text": [
      "0\n",
      "1\n",
      "4\n",
      "9\n",
      "16\n",
      "25\n",
      "36\n",
      "49\n",
      "64\n",
      "81\n"
     ]
    }
   ],
   "source": [
    "for i in range(10):\n",
    "    print(f(i))"
   ]
  },
  {
   "cell_type": "code",
   "execution_count": 177,
   "metadata": {},
   "outputs": [],
   "source": [
    "x = f(5)"
   ]
  },
  {
   "cell_type": "code",
   "execution_count": 174,
   "metadata": {},
   "outputs": [],
   "source": [
    "x"
   ]
  },
  {
   "cell_type": "code",
   "execution_count": null,
   "metadata": {},
   "outputs": [],
   "source": []
  }
 ],
 "metadata": {
  "kernelspec": {
   "display_name": "Python 3",
   "language": "python",
   "name": "python3"
  },
  "language_info": {
   "codemirror_mode": {
    "name": "ipython",
    "version": 3
   },
   "file_extension": ".py",
   "mimetype": "text/x-python",
   "name": "python",
   "nbconvert_exporter": "python",
   "pygments_lexer": "ipython3",
   "version": "3.6.7"
  }
 },
 "nbformat": 4,
 "nbformat_minor": 2
}
